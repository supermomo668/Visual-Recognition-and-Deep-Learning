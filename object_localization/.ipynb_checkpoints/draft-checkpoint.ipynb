{
 "cells": [
  {
   "cell_type": "code",
   "execution_count": 1,
   "id": "b0f052c1-3647-48de-a5c6-2a453165e875",
   "metadata": {},
   "outputs": [
    {
     "name": "stderr",
     "output_type": "stream",
     "text": [
      "/opt/conda/lib/python3.7/site-packages/tqdm/auto.py:22: TqdmWarning: IProgress not found. Please update jupyter and ipywidgets. See https://ipywidgets.readthedocs.io/en/stable/user_install.html\n",
      "  from .autonotebook import tqdm as notebook_tqdm\n"
     ]
    }
   ],
   "source": [
    "import argparse\n",
    "import os\n",
    "import shutil\n",
    "import time\n",
    "\n",
    "import sklearn\n",
    "import sklearn.metrics\n",
    "import torch\n",
    "import torch.nn as nn\n",
    "import torch.nn.parallel\n",
    "import torch.nn.functional as F\n",
    "import torch.backends.cudnn as cudnn\n",
    "import torch.distributed as dist\n",
    "import torch.optim\n",
    "import torch.utils.data\n",
    "import torch.utils.data.distributed\n",
    "import torchvision.transforms as transforms\n",
    "import torchvision.datasets as datasets\n",
    "import torchvision.models as models\n",
    "from torchmetrics import JaccardIndex\n",
    "from sklearn.preprocessing import minmax_scale\n",
    "import wandb\n",
    "\n",
    "import matplotlib.pyplot as plt\n",
    "from AlexNet import localizer_alexnet, localizer_alexnet_robust\n",
    "from voc_dataset import *\n",
    "from utils import *\n",
    "#\n",
    "from torchvision.transforms.functional import normalize, resize, to_pil_image\n",
    "from torchcam.utils import overlay_mask\n",
    "from torchcam.methods import SmoothGradCAMpp\n",
    "\n",
    "%load_ext autoreload\n",
    "%autoreload 2"
   ]
  },
  {
   "cell_type": "code",
   "execution_count": 2,
   "id": "7a4e1576-acf5-4f57-96ed-9487b9848a12",
   "metadata": {},
   "outputs": [],
   "source": [
    "USE_WANDB = True  # use flags, wandb is not convenient for debugging\n",
    "model_names = sorted(name for name in models.__dict__\n",
    "                     if name.islower() and not name.startswith(\"__\")\n",
    "                     and callable(models.__dict__[name]))\n",
    "\n",
    "parser = argparse.ArgumentParser(description='PyTorch ImageNet Training')\n",
    "parser.add_argument('--arch', default='localizer_alexnet')\n",
    "parser.add_argument(\n",
    "    '-j',\n",
    "    '--workers',\n",
    "    default=2,\n",
    "    type=int,\n",
    "    metavar='N',\n",
    "    help='number of data loading workers (default: 4)')\n",
    "parser.add_argument(\n",
    "    '--epochs',\n",
    "    default=1,\n",
    "    type=int,\n",
    "    metavar='N',\n",
    "    help='number of total epochs to run')\n",
    "parser.add_argument(\n",
    "    '--start-epoch',\n",
    "    default=0,\n",
    "    type=int,\n",
    "    metavar='N',\n",
    "    help='manual epoch number (useful on restarts)')\n",
    "parser.add_argument(\n",
    "    '-b',\n",
    "    '--batch-size',\n",
    "    default=32,\n",
    "    type=int,\n",
    "    metavar='N',\n",
    "    help='mini-batch size (default: 256)')\n",
    "parser.add_argument(\n",
    "    '--lr',\n",
    "    '--learning-rate',\n",
    "    default=1e-2,\n",
    "    type=float,\n",
    "    metavar='LR',\n",
    "    help='initial learning rate')\n",
    "parser.add_argument(\n",
    "    '--momentum', default=0.9, type=float, metavar='M', help='momentum')\n",
    "parser.add_argument(\n",
    "    '--weight-decay',\n",
    "    '--wd',\n",
    "    default=1e-4,\n",
    "    type=float,\n",
    "    metavar='W',\n",
    "    help='weight decay (default: 1e-4)')\n",
    "parser.add_argument(\n",
    "    '--print-freq',\n",
    "    '-p',\n",
    "    default=10,\n",
    "    type=int,\n",
    "    metavar='N',\n",
    "    help='print frequency (default: 10)')\n",
    "parser.add_argument(\n",
    "    '--eval-freq',\n",
    "    default=2,\n",
    "    type=int,\n",
    "    metavar='N',\n",
    "    help='print frequency (default: 10)')\n",
    "parser.add_argument(\n",
    "    '--resume',\n",
    "    default='./checkpoint.pth.tar',   # model_best.pth.tar\n",
    "    type=str,\n",
    "    metavar='PATH',\n",
    "    help='path to latest checkpoint (default: none)')\n",
    "parser.add_argument(\n",
    "    '-e',\n",
    "    '--evaluate',\n",
    "    dest='evaluate',\n",
    "    action='store_true',\n",
    "    help='evaluate model on validation set')\n",
    "parser.add_argument(\n",
    "    '--pretrained',\n",
    "    dest='pretrained',\n",
    "    action='store_false',\n",
    "    help='use pre-trained model')\n",
    "parser.add_argument(\n",
    "    '--world-size',\n",
    "    default=1,\n",
    "    type=int,\n",
    "    help='number of distributed processes')\n",
    "parser.add_argument(\n",
    "    '--dist-url',\n",
    "    default='tcp://224.66.41.62:23456',\n",
    "    type=str,\n",
    "    help='url used to set up distributed training')\n",
    "parser.add_argument(\n",
    "    '--dist-backend', default='gloo', type=str, help='distributed backend')\n",
    "parser.add_argument('--vis', action='store_true')\n",
    "\n",
    "best_prec1 = 0\n",
    "cudnn.benchmark = True\n"
   ]
  },
  {
   "cell_type": "code",
   "execution_count": 3,
   "id": "b29ef64c-7459-4032-aaa8-b2fcef77dee9",
   "metadata": {},
   "outputs": [
    {
     "name": "stdout",
     "output_type": "stream",
     "text": [
      "{'__module__': '__main__', 'parsed_args': Namespace(arch='localizer_alexnet', batch_size=32, dist_backend='gloo', dist_url='tcp://224.66.41.62:23456', epochs=1, eval_freq=2, evaluate=False, lr=0.01, momentum=0.9, pretrained=True, print_freq=10, resume='./checkpoint.pth.tar', start_epoch=0, vis=False, weight_decay=0.0001, workers=2, world_size=1), 'batch_size': 32, 'workers': 2, 'print_freq': 10, 'eval_freq': 2, 'epochs': 1, 'resume': './checkpoint.pth.tar', 'lr': 0.01, 'arch': 'localizer_alexnet', 'pretrained': True, 'momentum': 0.9, 'weight_decay': 0.0001, 'start_epoch': 0, '__dict__': <attribute '__dict__' of 'args' objects>, '__weakref__': <attribute '__weakref__' of 'args' objects>, '__doc__': None}\n"
     ]
    }
   ],
   "source": [
    "class args:\n",
    "    parsed_args = parser.parse_known_args()[0]\n",
    "    batch_size = parsed_args.batch_size\n",
    "    workers = parsed_args.workers\n",
    "    print_freq = parsed_args.print_freq\n",
    "    eval_freq= parsed_args.eval_freq\n",
    "    epochs = parsed_args.epochs\n",
    "    resume = parsed_args.resume\n",
    "    lr= parsed_args.lr\n",
    "    arch = parsed_args.arch\n",
    "    pretrained = True\n",
    "    momentum = parsed_args.momentum\n",
    "    weight_decay = parsed_args.weight_decay\n",
    "    start_epoch = parsed_args.start_epoch\n",
    "print(args.__dict__)"
   ]
  },
  {
   "cell_type": "code",
   "execution_count": 4,
   "id": "2de672d2-7dc7-47ab-bbc7-090c91845b37",
   "metadata": {},
   "outputs": [
    {
     "name": "stdout",
     "output_type": "stream",
     "text": [
      "=> creating model 'localizer_alexnet'\n"
     ]
    },
    {
     "name": "stderr",
     "output_type": "stream",
     "text": [
      "/home/mo/hw/hw1-object_localization/AlexNet.py:114: UserWarning: nn.init.xavier_uniform is now deprecated in favor of nn.init.xavier_uniform_.\n",
      "  nn.init.xavier_uniform(layer.weight)\n"
     ]
    }
   ],
   "source": [
    "# create model\n",
    "print(\"=> creating model '{}'\".format(args.arch))\n",
    "if args.arch == 'localizer_alexnet':\n",
    "    model = localizer_alexnet(pretrained=args.pretrained)\n",
    "elif args.arch == 'localizer_alexnet_robust':\n",
    "    model = localizer_alexnet_robust(pretrained=args.pretrained)\n",
    "#print(model)\n",
    "\n",
    "model.features = torch.nn.DataParallel(model.features)\n",
    "model.cuda()\n",
    "\n",
    "# TODO (Q1.1): define loss function (criterion) and optimizer from [1]\n",
    "# also use an LR scheduler to decay LR by 10 every 30 epochs\n",
    "#criterion = nn.MultiLabelSoftMarginLoss().cuda()   #\n",
    "criterion = nn.BCELoss().cuda()\n",
    "\n",
    "optimizer = torch.optim.SGD(model.parameters(), lr=args.lr,\n",
    "                            momentum=args.momentum,\n",
    "                            weight_decay=args.weight_decay)\n",
    "# optimizer = torch.optim.Adam(model.parameters(), lr=args.lr,\n",
    "#                             weight_decay=args.weight_decay)\n",
    "\n",
    "\"\"\"Sets the learning rate to the initial LR decayed by 10 every 30 epochs\"\"\"\n",
    "scheduler = torch.optim.lr_scheduler.StepLR(optimizer, step_size=30, gamma=0.1)"
   ]
  },
  {
   "cell_type": "code",
   "execution_count": 5,
   "id": "bb3ac4f0-bc80-439b-9a7c-b5a0de840210",
   "metadata": {},
   "outputs": [
    {
     "data": {
      "text/plain": [
       "torch.Size([20])"
      ]
     },
     "execution_count": 5,
     "metadata": {},
     "output_type": "execute_result"
    }
   ],
   "source": [
    "# test output size\n",
    "model(torch.randn((3, 512,512)).unsqueeze(dim=0)).size()"
   ]
  },
  {
   "cell_type": "code",
   "execution_count": 6,
   "id": "fbba9287-b68e-4d6f-9c4e-0ed182d3dee0",
   "metadata": {},
   "outputs": [
    {
     "name": "stdout",
     "output_type": "stream",
     "text": [
      "Path:/home/mo/hw/hw1-object_localization/data/VOCdevkit/VOC2007\n"
     ]
    }
   ],
   "source": [
    "dataset = VOCDataset('trainval', top_n=10, image_size=512, data_dir='./data/VOCdevkit/VOC2007/')\n",
    "# TODO (Q1.1): Create Datasets and Dataloaders using VOCDataset\n",
    "# Ensure that the sizes are 512x512\n",
    "# Also ensure that data directories are correct\n",
    "# The ones use for testing by TAs might be different\n",
    "n = len(dataset)\n",
    "train_dataset, val_dataset = torch.utils.data.random_split(dataset, [int(np.floor(n*0.8)), n-int(np.floor(n*0.8))])\n",
    "train_sampler = torch.utils.data.SubsetRandomSampler(range(len(train_dataset)))"
   ]
  },
  {
   "cell_type": "code",
   "execution_count": 7,
   "id": "514c1e4c-8948-488d-9a9f-b2c428ee761f",
   "metadata": {},
   "outputs": [
    {
     "name": "stderr",
     "output_type": "stream",
     "text": [
      "\u001b[34m\u001b[1mwandb\u001b[0m: Currently logged in as: \u001b[33m3m-m\u001b[0m. Use \u001b[1m`wandb login --relogin`\u001b[0m to force relogin\n"
     ]
    },
    {
     "data": {
      "text/html": [
       "wandb version 0.13.4 is available!  To upgrade, please run:\n",
       " $ pip install wandb --upgrade"
      ],
      "text/plain": [
       "<IPython.core.display.HTML object>"
      ]
     },
     "metadata": {},
     "output_type": "display_data"
    },
    {
     "data": {
      "text/html": [
       "Tracking run with wandb version 0.13.3"
      ],
      "text/plain": [
       "<IPython.core.display.HTML object>"
      ]
     },
     "metadata": {},
     "output_type": "display_data"
    },
    {
     "data": {
      "text/html": [
       "Run data is saved locally in <code>/home/mo/hw/hw1-object_localization/wandb/run-20221006_191015-3d54udpy</code>"
      ],
      "text/plain": [
       "<IPython.core.display.HTML object>"
      ]
     },
     "metadata": {},
     "output_type": "display_data"
    },
    {
     "data": {
      "text/html": [
       "Syncing run <strong><a href=\"https://wandb.ai/3m-m/vlr-hw1/runs/3d54udpy\" target=\"_blank\">worthy-armadillo-65</a></strong> to <a href=\"https://wandb.ai/3m-m/vlr-hw1\" target=\"_blank\">Weights & Biases</a> (<a href=\"https://wandb.me/run\" target=\"_blank\">docs</a>)<br/>"
      ],
      "text/plain": [
       "<IPython.core.display.HTML object>"
      ]
     },
     "metadata": {},
     "output_type": "display_data"
    }
   ],
   "source": [
    "train_loader = torch.utils.data.DataLoader(\n",
    "    train_dataset,\n",
    "    batch_size=args.batch_size,\n",
    "    shuffle=False,\n",
    "    num_workers=0,\n",
    "    pin_memory=True,\n",
    "    sampler=train_sampler,\n",
    "    collate_fn=custom_collate_fn_VOC,\n",
    "    drop_last=True)\n",
    "\n",
    "val_loader = torch.utils.data.DataLoader(\n",
    "    val_dataset,\n",
    "    batch_size=args.batch_size,\n",
    "    shuffle=False,\n",
    "    num_workers=0,\n",
    "    pin_memory=True,\n",
    "    collate_fn=custom_collate_fn_VOC,\n",
    "    drop_last=True)\n",
    "\n",
    "# TODO (Q1.3): Create loggers for wandb.\n",
    "if USE_WANDB:\n",
    "    wandb.init(project=\"vlr-hw1\", reinit=True)\n",
    "#Ideally, use flags since wandb makes it harder to debug code."
   ]
  },
  {
   "cell_type": "code",
   "execution_count": 8,
   "id": "5b205cea-09a4-43b7-88af-d4e01a245fae",
   "metadata": {},
   "outputs": [
    {
     "name": "stdout",
     "output_type": "stream",
     "text": [
      "image False\n",
      "label False\n",
      "wgt False\n",
      "rois True\n",
      "gt_boxes False\n",
      "gt_classes False\n",
      "image <class 'torch.Tensor'>\n",
      "torch.Size([3, 512, 512])\n",
      "label <class 'torch.Tensor'>\n",
      "torch.Size([20])\n",
      "wgt <class 'torch.Tensor'>\n",
      "torch.Size([20])\n",
      "rois <class 'numpy.ndarray'>\n",
      "(10, 4)\n",
      "gt_boxes <class 'list'>\n",
      "(7, 4)\n",
      "gt_classes <class 'list'>\n",
      "(7,)\n"
     ]
    }
   ],
   "source": [
    "data = train_dataset[2020]\n",
    "for k, v in data.items():\n",
    "    print(k, type(v)==np.ndarray)\n",
    "for k, v in data.items():\n",
    "    print(k, type(v))\n",
    "    if type(v) != list: print(v.shape)\n",
    "    else: print(np.array(v).shape)"
   ]
  },
  {
   "cell_type": "code",
   "execution_count": 9,
   "id": "fc0bf36e-a874-498f-b7d9-df1842750291",
   "metadata": {},
   "outputs": [],
   "source": [
    "class AverageMeter(object):\n",
    "    \"\"\"Computes and stores the average and current value\"\"\"\n",
    "\n",
    "    def __init__(self):\n",
    "        self.reset()\n",
    "\n",
    "    def reset(self):\n",
    "        self.val = 0\n",
    "        self.avg = 0\n",
    "        self.sum = 0\n",
    "        self.count = 0\n",
    "\n",
    "    def update(self, val, n=1):\n",
    "        self.val = val\n",
    "        self.sum += val * n\n",
    "        self.count += n\n",
    "        self.avg = self.sum / self.count\n",
    "\n",
    "def metric1(output, target):\n",
    "    # TODO (Q1.5): compute metric1\n",
    "    target = target.detach().numpy().astype('int')\n",
    "    output = output.detach().numpy().astype('float')\n",
    "    # get features that aren't all zero\n",
    "    feat_considered = ~np.all(np.concatenate([target, output]), axis=0)\n",
    "    mean_ap = sklearn.metrics.average_precision_score(target[:,feat_considered], output[:,feat_considered], average='samples')\n",
    "    return mean_ap   #[0]\n",
    "        \n",
    "def metric2(output, target, thres=0.5):\n",
    "    # TODO (Q1.5): compute metric2\n",
    "    target = np.int32(target.detach().numpy())\n",
    "    output = (output.detach().numpy()>thres).astype(int)\n",
    "    feat_considered = ~np.all(np.concatenate([target, output]), axis=0)\n",
    "    recall = sklearn.metrics.recall_score(target[:, feat_considered], output[:, feat_considered], average='samples')\n",
    "    #print(f\"Metric 2:{recall}\")\n",
    "    return recall  #[0]\n",
    "        \n",
    "# def metric3(output, target):\n",
    "#     target = target.detach().type(torch.int64)\n",
    "#     output = output.detach().type(torch.int64)\n",
    "#     print(f\"{target.size(), target.dtype}{output.size(), output.dtype}\")\n",
    "#     iou_precision = JaccardIndex(num_classes=2, average='samples')\n",
    "#     return iou_precision(target, output)    #[0]"
   ]
  },
  {
   "cell_type": "code",
   "execution_count": 10,
   "id": "7e258f63-e513-43d5-829e-0afb8c39b0a4",
   "metadata": {},
   "outputs": [],
   "source": [
    "# TODO: You can add input arguments if you wish\n",
    "def train(train_loader, model, criterion, optimizer, epoch, cam_extractor=None):\n",
    "    batch_time = AverageMeter()\n",
    "    data_time = AverageMeter()\n",
    "    losses = AverageMeter()\n",
    "    avg_m1 = AverageMeter()\n",
    "    avg_m2 = AverageMeter()\n",
    "    avg_m3 = AverageMeter()\n",
    "\n",
    "    # switch to train mode\n",
    "    model.train()\n",
    "    class_id_to_label = dict(enumerate(dataset.CLASS_NAMES))\n",
    "    end = time.time()\n",
    "    vis_table = wandb.Table(columns=[\"image\", \"heatmap\", \"GradCAM\"])\n",
    "    gradcam_table = wandb.Table(columns=[\"image\", \"GradCAM\"])\n",
    "    for i, (data) in enumerate(train_loader):\n",
    "        # measure data loading time\n",
    "        data_time.update(time.time() - end)\n",
    "\n",
    "        # TODO (Q1.1): Get inputs from the data dict\n",
    "        # Convert inputs to cuda if training on GPU\n",
    "        input_im = data['image'].to('cuda')\n",
    "        target = data['label']\n",
    "                            \n",
    "        # TODO (Q1.1): Get output from model\n",
    "        if i==0: print(\"Forward pass\")\n",
    "        cls_out = model(input_im)\n",
    "        # TODO (Q1.1): Perform any necessary functions on the output\n",
    "        # imoutput = nn.MaxPool2d(kernel_size=(conv_out.size(2), conv_out.size(3)))(conv_out)\n",
    "        # imoutput = torch.sigmoid(imoutput.squeeze())\n",
    "        if i==0: print(f\"Output size:{model.feat_map.size()}\")\n",
    "        vis_heatmap = F.interpolate(model.feat_map, size=(input_im.shape[2],input_im.shape[3]), mode='nearest')\n",
    "        if i==0: print(f\"Heatmap output size:{vis_heatmap.shape}\")\n",
    "        \n",
    "        # TODO (Q1.1): Compute loss using ``criterion``\n",
    "        loss = criterion(cls_out.cpu(), target)\n",
    "        \n",
    "        # measure metrics and record loss\n",
    "        m1 = metric1(cls_out.cpu(), target)\n",
    "        m2 = metric2(cls_out.cpu(), target)\n",
    "        \n",
    "        losses.update(loss.item(), len(data))\n",
    "        avg_m1.update(m1)\n",
    "        avg_m2.update(m2)\n",
    "\n",
    "        # TODO (Q1.1): compute gradient and perform optimizer step\n",
    "        optimizer.zero_grad()\n",
    "        loss.backward()\n",
    "        optimizer.step()\n",
    "\n",
    "        # measure elapsed time\n",
    "        batch_time.update(time.time() - end)\n",
    "        end = time.time()\n",
    "\n",
    "        if i % args.print_freq == 0:\n",
    "            print('Epoch: [{0}][{1}/{2}]\\t'\n",
    "                  'Time {batch_time.val:.3f} ({batch_time.avg:.3f})\\t'\n",
    "                  'Data {data_time.val:.3f} ({data_time.avg:.3f})\\t'\n",
    "                  'Loss {loss.val:.4f} ({loss.avg:.4f})\\t'\n",
    "                  'Metric1 {avg_m1.val:.3f} ({avg_m1.avg:.3f})\\t'\n",
    "                  'Metric2 {avg_m2.val:.3f} ({avg_m2.avg:.3f})'.format(\n",
    "                      epoch,\n",
    "                      i,\n",
    "                      len(train_loader),\n",
    "                      batch_time=batch_time,\n",
    "                      data_time=data_time,\n",
    "                      loss=losses,\n",
    "                      avg_m1=avg_m1,\n",
    "                      avg_m2=avg_m2)\n",
    "                 )\n",
    "        # TODO (Q1.3): Visualize/log things as mentioned in handout at appropriate intervals\n",
    "        c_map = plt.get_cmap('jet')\n",
    "        if (epoch==0 or epoch==1 ) and i==0:\n",
    "            for n, (im, out_heatmap) in enumerate(zip(input_im, vis_heatmap)):\n",
    "                input_img = wandb.Image(im, boxes={\n",
    "                    \"predictions\": {\n",
    "                        \"box_data\": get_box_data(data['gt_classes'][n], data['gt_boxes'][n]),\n",
    "                        \"class_labels\": class_id_to_label,       \n",
    "                    },\n",
    "                })\n",
    "                # Log selective masks\n",
    "                att_map = vis_heatmap[n][data['gt_classes'][n][0]].cpu().detach().numpy()\n",
    "                att_map = minmax_scale(np.abs(att_map).ravel(), feature_range=(0,1)).reshape(att_map.shape)\n",
    "                \n",
    "                # Retrieve the CAM by passing the class index and the model output\n",
    "                if cam_extractor:\n",
    "                    activation_map = cam_extractor(cls_out[n].squeeze(0).argmax().item(), cls_out[n])\n",
    "                    gradcam_result = overlay_mask(to_pil_image(im), to_pil_image(activation_map[0][n], mode='F'), alpha=0.5)\n",
    "                else:\n",
    "                    gradcam_result = att_map\n",
    "                #\n",
    "                vis_table.add_data(input_img, wandb.Image(c_map(att_map)), wandb.Image(gradcam_result))\n",
    "                if n==1: \n",
    "                    wandb.log({\"Visuals\": vis_table})\n",
    "                    break\n",
    "        wandb.log(\n",
    "            {'train/loss':loss, 'train/metric1': m1,  'train/metric2': m2,}\n",
    "        )\n",
    "        # End of train()"
   ]
  },
  {
   "cell_type": "code",
   "execution_count": 11,
   "id": "19bb3820-36a7-4711-802d-c40f01ac57f0",
   "metadata": {},
   "outputs": [],
   "source": [
    "def validate(val_loader, model, criterion, epoch=0, cam_extractor=None, cam_inference=False):\n",
    "    batch_time = AverageMeter()\n",
    "    losses = AverageMeter()\n",
    "    avg_m1 = AverageMeter()\n",
    "    avg_m2 = AverageMeter()\n",
    "\n",
    "    # switch to evaluate mode\n",
    "    model.eval()\n",
    "    class_id_to_label = dict(enumerate(dataset.CLASS_NAMES))\n",
    "    vis_table_val = wandb.Table(columns=[\"image\", \"heatmap\", \"GradCAM\"])\n",
    "    end = time.time()\n",
    "    for i, (data) in enumerate(val_loader):\n",
    "        # TODO (Q1.1): Get inputs from the data dict\n",
    "        # Convert inputs to cuda if training on GPU\n",
    "        input_im = data['image'].to('cuda')\n",
    "        target_class = data['label']\n",
    "                            \n",
    "        # TODO (Q1.1): Get output from model\n",
    "        if i==0: print(\"Forward pass\")\n",
    "        cls_out = model(input_im)\n",
    "        if cam_inference:\n",
    "            # new_cls_out = []\n",
    "            # for n in range(len(cls_out)):\n",
    "            n = 0\n",
    "            activation_map = torch.stack(cam_extractor(cls_out[n].squeeze(0).argmax().item(), cls_out[n]))\n",
    "            activation_map = activation_map.permute(1,0,2,3)\n",
    "            #activation_map = activation_map/activation_map.sum()  # torch.Size([32, 1, 29, 29])\n",
    "            #print(model.feat_map.size(), activation_map.size())\n",
    "            # feat_map : torch.Size([32, 20, 29, 29]) \n",
    "            model.feat_map[:,n:n+1,:,:] = model.feat_map[:,n:n+1,:,:]*activation_map\n",
    "            cls_out = model.forward_actmap(model.feat_map)\n",
    "        # TODO (Q1.1): Perform any necessary functions on the output\n",
    "        # upsample to match input size\n",
    "        vis_heatmap = F.interpolate(model.feat_map, size=(input_im.shape[2],input_im.shape[3]), mode='nearest')\n",
    "        if i==0: print(f\"Heatmap output size:{vis_heatmap.shape}\")\n",
    "        \n",
    "        # TODO (Q1.1): Compute loss using ``criterion``\n",
    "        # (same as above)\n",
    "        loss = criterion(cls_out.cpu(), target_class)\n",
    "        \n",
    "        # measure metrics and record loss\n",
    "        losses.update(loss.item(), len(data))\n",
    "        m1 = metric1(cls_out.to('cpu'), target_class)\n",
    "        m2 = metric2(cls_out.to('cpu'), target_class)\n",
    "        avg_m1.update(m1)\n",
    "        avg_m2.update(m2)\n",
    "\n",
    "        # measure elapsed time\n",
    "        batch_time.update(time.time() - end)\n",
    "        end = time.time()\n",
    "\n",
    "        if i % args.print_freq == 0:\n",
    "            print('Test: [{0}/{1}]\\t'\n",
    "                  'Time {batch_time.val:.3f} ({batch_time.avg:.3f})\\t'\n",
    "                  'Loss {loss.val:.4f} ({loss.avg:.4f})\\t'\n",
    "                  'Metric1 {avg_m1.val:.3f} ({avg_m1.avg:.3f})\\t'\n",
    "                  'Metric2 {avg_m2.val:.3f} ({avg_m2.avg:.3f})'.format(\n",
    "                      i,\n",
    "                      len(val_loader),\n",
    "                      batch_time=batch_time,\n",
    "                      loss=losses,\n",
    "                      avg_m1=avg_m1,\n",
    "                      avg_m2=avg_m2))\n",
    "\n",
    "        # TODO (Q1.3): Visualize things as mentioned in handout\n",
    "        # jet colormap\n",
    "        c_map = plt.get_cmap('jet')\n",
    "\n",
    "        # TODO (Q1.3): Visualize at appropriate intervals\n",
    "        for n, (im, out_heatmap) in enumerate(zip(input_im, vis_heatmap)):\n",
    "            input_img = wandb.Image(im, boxes={\n",
    "                \"predictions\": {\n",
    "                    \"box_data\": get_box_data(data['gt_classes'][n], data['gt_boxes'][n]),\n",
    "                    \"class_labels\": class_id_to_label,       \n",
    "                },\n",
    "            })\n",
    "            # Log feature map from model.classifier for visualizing heampa\n",
    "            att_map = vis_heatmap[n][data['gt_classes'][n][0]].cpu().detach().numpy()\n",
    "            att_map = minmax_scale(np.abs(att_map).ravel(), feature_range=(0,1)).reshape(att_map.shape)\n",
    "            # Retrieve the CAM by passing the class index and the model output\n",
    "            if cam_extractor:\n",
    "                activation_map = cam_extractor(cls_out[n].squeeze(0).argmax().item(), cls_out[n])\n",
    "                gradcam_result = overlay_mask(to_pil_image(im), to_pil_image(activation_map[0][n], mode='F'), alpha=0.5)\n",
    "            else:\n",
    "                gradcam_result = att_map\n",
    "            #\n",
    "            vis_table_val.add_data(input_img, wandb.Image(c_map(att_map)), wandb.Image(c_map(np.asarray(gradcam_result))))\n",
    "            if n==3: \n",
    "                break\n",
    "        print(' * Metric1 {avg_m1.avg:.3f} Metric2 {avg_m2.avg:.3f}'.format(\n",
    "        avg_m1=avg_m1, avg_m2=avg_m2))\n",
    "        wandb.log(\n",
    "            {'val/loss':loss, 'val/metric1': m1,  'val/metric2': m2}\n",
    "        )\n",
    "    wandb.log({f\"val/Visuals/{epoch}\": vis_table_val})\n",
    "    return avg_m1.avg, avg_m2.avg"
   ]
  },
  {
   "cell_type": "markdown",
   "id": "adf30bc7-9c5a-44d2-b986-5faf74a7d981",
   "metadata": {},
   "source": [
    "<b> Train"
   ]
  },
  {
   "cell_type": "raw",
   "id": "99022928-6868-408b-9c58-1d3e340209b1",
   "metadata": {
    "tags": []
   },
   "source": [
    "for epoch in range(args.start_epoch, 1):\n",
    "    # GradCAM\n",
    "    cam_extractor = SmoothGradCAMpp(model)\n",
    "    # train for one epoch\n",
    "    train(train_loader, model, criterion, optimizer, epoch, cam_extractor)\n",
    "    \n",
    "    # evaluate on validation set\n",
    "    if epoch % args.eval_freq == 0:\n",
    "        m1, m2 = validate(val_loader, model, criterion, epoch, cam_extractor)\n",
    "        score = m1 * m2\n",
    "        # remember best prec@1 and save checkpoint\n",
    "        is_best = score > best_prec1\n",
    "        best_prec1 = max(score, best_prec1)\n",
    "        save_checkpoint({\n",
    "            'epoch': epoch + 1,\n",
    "            'arch': args.arch,\n",
    "            'state_dict': model.state_dict(),\n",
    "            'best_prec1': best_prec1,\n",
    "            'optimizer': optimizer.state_dict(),\n",
    "        }, is_best)"
   ]
  },
  {
   "cell_type": "code",
   "execution_count": 12,
   "id": "3f27f1fe-2178-44a4-9bb4-52deb1b32880",
   "metadata": {},
   "outputs": [
    {
     "name": "stdout",
     "output_type": "stream",
     "text": [
      "Done.\n"
     ]
    }
   ],
   "source": [
    "torch.cuda.empty_cache()\n",
    "print(\"Done.\")"
   ]
  },
  {
   "cell_type": "markdown",
   "id": "cb943391-0450-4887-896c-8af81574601e",
   "metadata": {},
   "source": [
    "<b> Grad CAM"
   ]
  },
  {
   "cell_type": "code",
   "execution_count": 13,
   "id": "5a373ba6-f36e-4792-a8f6-413ecbbc738a",
   "metadata": {},
   "outputs": [
    {
     "name": "stderr",
     "output_type": "stream",
     "text": [
      "/home/mo/hw/hw1-object_localization/AlexNet.py:135: UserWarning: nn.init.xavier_uniform is now deprecated in favor of nn.init.xavier_uniform_.\n",
      "  nn.init.xavier_uniform(layer.weight)\n",
      "WARNING:root:no value was provided for `target_layer`, thus set to 'classifier'.\n"
     ]
    },
    {
     "data": {
      "text/plain": [
       "LocalizerAlexNetRobust(\n",
       "  (features): DataParallel(\n",
       "    (module): Sequential(\n",
       "      (0): Conv2d(3, 64, kernel_size=(11, 11), stride=(4, 4), padding=(2, 2))\n",
       "      (1): ReLU(inplace=True)\n",
       "      (2): MaxPool2d(kernel_size=(3, 3), stride=(2, 2), padding=0, dilation=(1, 1), ceil_mode=False)\n",
       "      (3): Conv2d(64, 192, kernel_size=(5, 5), stride=(1, 1), padding=(2, 2))\n",
       "      (4): ReLU(inplace=True)\n",
       "      (5): MaxPool2d(kernel_size=(3, 3), stride=(2, 2), padding=0, dilation=(1, 1), ceil_mode=False)\n",
       "      (6): Conv2d(192, 384, kernel_size=(3, 3), stride=(1, 1), padding=(1, 1))\n",
       "      (7): ReLU(inplace=True)\n",
       "      (8): Conv2d(384, 256, kernel_size=(3, 3), stride=(1, 1), padding=(1, 1))\n",
       "      (9): ReLU(inplace=True)\n",
       "      (10): Conv2d(256, 256, kernel_size=(3, 3), stride=(1, 1), padding=(1, 1))\n",
       "      (11): ReLU(inplace=True)\n",
       "    )\n",
       "  )\n",
       "  (classifier): Sequential(\n",
       "    (0): Dropout(p=0.3, inplace=False)\n",
       "    (1): Conv2d(256, 256, kernel_size=(3, 3), stride=(1, 1))\n",
       "    (2): ReLU(inplace=True)\n",
       "    (3): Dropout(p=0.2, inplace=False)\n",
       "    (4): Conv2d(256, 256, kernel_size=(1, 1), stride=(1, 1))\n",
       "    (5): ReLU(inplace=True)\n",
       "    (6): Dropout(p=0.2, inplace=False)\n",
       "    (7): Conv2d(256, 20, kernel_size=(1, 1), stride=(1, 1))\n",
       "  )\n",
       ")"
      ]
     },
     "execution_count": 13,
     "metadata": {},
     "output_type": "execute_result"
    }
   ],
   "source": [
    "model = localizer_alexnet_robust(pretrained=args.pretrained)\n",
    "extractor = SmoothGradCAMpp(model)\n",
    "#print(model)\n",
    "model.features = torch.nn.DataParallel(model.features)\n",
    "model.cuda()"
   ]
  },
  {
   "cell_type": "code",
   "execution_count": 14,
   "id": "7caa1206-e32a-4252-85fd-f2288b5b1a0a",
   "metadata": {},
   "outputs": [
    {
     "name": "stdout",
     "output_type": "stream",
     "text": [
      "=> loading checkpoint './checkpoint.pth.tar'\n",
      "=> loaded checkpoint './checkpoint.pth.tar' (epoch 41)\n"
     ]
    }
   ],
   "source": [
    "print(\"=> loading checkpoint '{}'\".format(args.resume))\n",
    "checkpoint = torch.load(args.resume)\n",
    "args.start_epoch = checkpoint['epoch']\n",
    "best_prec1 = checkpoint['best_prec1']\n",
    "model.load_state_dict(checkpoint['state_dict'])\n",
    "optimizer.load_state_dict(checkpoint['optimizer'])\n",
    "print(\"=> loaded checkpoint '{}' (epoch {})\".format(\n",
    "    args.resume, checkpoint['epoch']))"
   ]
  },
  {
   "cell_type": "code",
   "execution_count": 15,
   "id": "45306907-56b1-4d6d-b46b-d570bf1e70ff",
   "metadata": {},
   "outputs": [
    {
     "name": "stdout",
     "output_type": "stream",
     "text": [
      "Forward pass\n",
      "Heatmap output size:torch.Size([32, 20, 512, 512])\n",
      "Test: [0/31]\tTime 3.609 (3.609)\tLoss 0.2764 (0.2764)\tMetric1 0.388 (0.388)\tMetric2 0.078 (0.078)\n"
     ]
    },
    {
     "ename": "KeyboardInterrupt",
     "evalue": "",
     "output_type": "error",
     "traceback": [
      "\u001b[0;31m---------------------------------------------------------------------------\u001b[0m",
      "\u001b[0;31mKeyboardInterrupt\u001b[0m                         Traceback (most recent call last)",
      "\u001b[0;32m/tmp/ipykernel_10494/685816134.py\u001b[0m in \u001b[0;36m<module>\u001b[0;34m\u001b[0m\n\u001b[0;32m----> 1\u001b[0;31m \u001b[0mvalidate\u001b[0m\u001b[0;34m(\u001b[0m\u001b[0mval_loader\u001b[0m\u001b[0;34m,\u001b[0m \u001b[0mmodel\u001b[0m\u001b[0;34m,\u001b[0m \u001b[0mcriterion\u001b[0m\u001b[0;34m,\u001b[0m \u001b[0mepoch\u001b[0m\u001b[0;34m=\u001b[0m\u001b[0;36m0\u001b[0m\u001b[0;34m,\u001b[0m \u001b[0mcam_extractor\u001b[0m\u001b[0;34m=\u001b[0m\u001b[0mextractor\u001b[0m\u001b[0;34m,\u001b[0m \u001b[0mcam_inference\u001b[0m\u001b[0;34m=\u001b[0m\u001b[0;32mTrue\u001b[0m\u001b[0;34m)\u001b[0m\u001b[0;34m\u001b[0m\u001b[0;34m\u001b[0m\u001b[0m\n\u001b[0m",
      "\u001b[0;32m/tmp/ipykernel_10494/2800101019.py\u001b[0m in \u001b[0;36mvalidate\u001b[0;34m(val_loader, model, criterion, epoch, cam_extractor, cam_inference)\u001b[0m\n\u001b[1;32m     80\u001b[0m             \u001b[0;31m# Retrieve the CAM by passing the class index and the model output\u001b[0m\u001b[0;34m\u001b[0m\u001b[0;34m\u001b[0m\u001b[0;34m\u001b[0m\u001b[0m\n\u001b[1;32m     81\u001b[0m             \u001b[0;32mif\u001b[0m \u001b[0mcam_extractor\u001b[0m\u001b[0;34m:\u001b[0m\u001b[0;34m\u001b[0m\u001b[0;34m\u001b[0m\u001b[0m\n\u001b[0;32m---> 82\u001b[0;31m                 \u001b[0mactivation_map\u001b[0m \u001b[0;34m=\u001b[0m \u001b[0mcam_extractor\u001b[0m\u001b[0;34m(\u001b[0m\u001b[0mcls_out\u001b[0m\u001b[0;34m[\u001b[0m\u001b[0mn\u001b[0m\u001b[0;34m]\u001b[0m\u001b[0;34m.\u001b[0m\u001b[0msqueeze\u001b[0m\u001b[0;34m(\u001b[0m\u001b[0;36m0\u001b[0m\u001b[0;34m)\u001b[0m\u001b[0;34m.\u001b[0m\u001b[0margmax\u001b[0m\u001b[0;34m(\u001b[0m\u001b[0;34m)\u001b[0m\u001b[0;34m.\u001b[0m\u001b[0mitem\u001b[0m\u001b[0;34m(\u001b[0m\u001b[0;34m)\u001b[0m\u001b[0;34m,\u001b[0m \u001b[0mcls_out\u001b[0m\u001b[0;34m[\u001b[0m\u001b[0mn\u001b[0m\u001b[0;34m]\u001b[0m\u001b[0;34m)\u001b[0m\u001b[0;34m\u001b[0m\u001b[0;34m\u001b[0m\u001b[0m\n\u001b[0m\u001b[1;32m     83\u001b[0m                 \u001b[0mgradcam_result\u001b[0m \u001b[0;34m=\u001b[0m \u001b[0moverlay_mask\u001b[0m\u001b[0;34m(\u001b[0m\u001b[0mto_pil_image\u001b[0m\u001b[0;34m(\u001b[0m\u001b[0mim\u001b[0m\u001b[0;34m)\u001b[0m\u001b[0;34m,\u001b[0m \u001b[0mto_pil_image\u001b[0m\u001b[0;34m(\u001b[0m\u001b[0mactivation_map\u001b[0m\u001b[0;34m[\u001b[0m\u001b[0;36m0\u001b[0m\u001b[0;34m]\u001b[0m\u001b[0;34m[\u001b[0m\u001b[0mn\u001b[0m\u001b[0;34m]\u001b[0m\u001b[0;34m,\u001b[0m \u001b[0mmode\u001b[0m\u001b[0;34m=\u001b[0m\u001b[0;34m'F'\u001b[0m\u001b[0;34m)\u001b[0m\u001b[0;34m,\u001b[0m \u001b[0malpha\u001b[0m\u001b[0;34m=\u001b[0m\u001b[0;36m0.5\u001b[0m\u001b[0;34m)\u001b[0m\u001b[0;34m\u001b[0m\u001b[0;34m\u001b[0m\u001b[0m\n\u001b[1;32m     84\u001b[0m             \u001b[0;32melse\u001b[0m\u001b[0;34m:\u001b[0m\u001b[0;34m\u001b[0m\u001b[0;34m\u001b[0m\u001b[0m\n",
      "\u001b[0;32m/opt/conda/lib/python3.7/site-packages/torchcam/methods/core.py\u001b[0m in \u001b[0;36m__call__\u001b[0;34m(self, class_idx, scores, normalized, **kwargs)\u001b[0m\n\u001b[1;32m    154\u001b[0m \u001b[0;34m\u001b[0m\u001b[0m\n\u001b[1;32m    155\u001b[0m         \u001b[0;31m# Compute CAM\u001b[0m\u001b[0;34m\u001b[0m\u001b[0;34m\u001b[0m\u001b[0;34m\u001b[0m\u001b[0m\n\u001b[0;32m--> 156\u001b[0;31m         \u001b[0;32mreturn\u001b[0m \u001b[0mself\u001b[0m\u001b[0;34m.\u001b[0m\u001b[0mcompute_cams\u001b[0m\u001b[0;34m(\u001b[0m\u001b[0mclass_idx\u001b[0m\u001b[0;34m,\u001b[0m \u001b[0mscores\u001b[0m\u001b[0;34m,\u001b[0m \u001b[0mnormalized\u001b[0m\u001b[0;34m,\u001b[0m \u001b[0;34m**\u001b[0m\u001b[0mkwargs\u001b[0m\u001b[0;34m)\u001b[0m\u001b[0;34m\u001b[0m\u001b[0;34m\u001b[0m\u001b[0m\n\u001b[0m\u001b[1;32m    157\u001b[0m \u001b[0;34m\u001b[0m\u001b[0m\n\u001b[1;32m    158\u001b[0m     def compute_cams(\n",
      "\u001b[0;32m/opt/conda/lib/python3.7/site-packages/torchcam/methods/core.py\u001b[0m in \u001b[0;36mcompute_cams\u001b[0;34m(self, class_idx, scores, normalized, **kwargs)\u001b[0m\n\u001b[1;32m    178\u001b[0m \u001b[0;34m\u001b[0m\u001b[0m\n\u001b[1;32m    179\u001b[0m         \u001b[0;31m# Get map weight & unsqueeze it\u001b[0m\u001b[0;34m\u001b[0m\u001b[0;34m\u001b[0m\u001b[0;34m\u001b[0m\u001b[0m\n\u001b[0;32m--> 180\u001b[0;31m         \u001b[0mweights\u001b[0m \u001b[0;34m=\u001b[0m \u001b[0mself\u001b[0m\u001b[0;34m.\u001b[0m\u001b[0m_get_weights\u001b[0m\u001b[0;34m(\u001b[0m\u001b[0mclass_idx\u001b[0m\u001b[0;34m,\u001b[0m \u001b[0mscores\u001b[0m\u001b[0;34m,\u001b[0m \u001b[0;34m**\u001b[0m\u001b[0mkwargs\u001b[0m\u001b[0;34m)\u001b[0m\u001b[0;34m\u001b[0m\u001b[0;34m\u001b[0m\u001b[0m\n\u001b[0m\u001b[1;32m    181\u001b[0m \u001b[0;34m\u001b[0m\u001b[0m\n\u001b[1;32m    182\u001b[0m         \u001b[0mcams\u001b[0m\u001b[0;34m:\u001b[0m \u001b[0mList\u001b[0m\u001b[0;34m[\u001b[0m\u001b[0mTensor\u001b[0m\u001b[0;34m]\u001b[0m \u001b[0;34m=\u001b[0m \u001b[0;34m[\u001b[0m\u001b[0;34m]\u001b[0m\u001b[0;34m\u001b[0m\u001b[0;34m\u001b[0m\u001b[0m\n",
      "\u001b[0;32m/opt/conda/lib/python3.7/site-packages/torchcam/methods/gradient.py\u001b[0m in \u001b[0;36m_get_weights\u001b[0;34m(self, class_idx, scores, eps, **kwargs)\u001b[0m\n\u001b[1;32m    275\u001b[0m         \u001b[0;32mfor\u001b[0m \u001b[0m_idx\u001b[0m \u001b[0;32min\u001b[0m \u001b[0mrange\u001b[0m\u001b[0;34m(\u001b[0m\u001b[0mself\u001b[0m\u001b[0;34m.\u001b[0m\u001b[0mnum_samples\u001b[0m\u001b[0;34m)\u001b[0m\u001b[0;34m:\u001b[0m\u001b[0;34m\u001b[0m\u001b[0;34m\u001b[0m\u001b[0m\n\u001b[1;32m    276\u001b[0m             \u001b[0;31m# Add noise\u001b[0m\u001b[0;34m\u001b[0m\u001b[0;34m\u001b[0m\u001b[0;34m\u001b[0m\u001b[0m\n\u001b[0;32m--> 277\u001b[0;31m             \u001b[0mnoisy_input\u001b[0m \u001b[0;34m=\u001b[0m \u001b[0mself\u001b[0m\u001b[0;34m.\u001b[0m\u001b[0m_input\u001b[0m \u001b[0;34m+\u001b[0m \u001b[0mself\u001b[0m\u001b[0;34m.\u001b[0m\u001b[0m_distrib\u001b[0m\u001b[0;34m.\u001b[0m\u001b[0msample\u001b[0m\u001b[0;34m(\u001b[0m\u001b[0mself\u001b[0m\u001b[0;34m.\u001b[0m\u001b[0m_input\u001b[0m\u001b[0;34m.\u001b[0m\u001b[0msize\u001b[0m\u001b[0;34m(\u001b[0m\u001b[0;34m)\u001b[0m\u001b[0;34m)\u001b[0m\u001b[0;34m.\u001b[0m\u001b[0mto\u001b[0m\u001b[0;34m(\u001b[0m\u001b[0mdevice\u001b[0m\u001b[0;34m=\u001b[0m\u001b[0mself\u001b[0m\u001b[0;34m.\u001b[0m\u001b[0m_input\u001b[0m\u001b[0;34m.\u001b[0m\u001b[0mdevice\u001b[0m\u001b[0;34m)\u001b[0m\u001b[0;34m\u001b[0m\u001b[0;34m\u001b[0m\u001b[0m\n\u001b[0m\u001b[1;32m    278\u001b[0m             \u001b[0;31m# Forward & Backward\u001b[0m\u001b[0;34m\u001b[0m\u001b[0;34m\u001b[0m\u001b[0;34m\u001b[0m\u001b[0m\n\u001b[1;32m    279\u001b[0m             \u001b[0mout\u001b[0m \u001b[0;34m=\u001b[0m \u001b[0mself\u001b[0m\u001b[0;34m.\u001b[0m\u001b[0mmodel\u001b[0m\u001b[0;34m(\u001b[0m\u001b[0mnoisy_input\u001b[0m\u001b[0;34m)\u001b[0m\u001b[0;34m\u001b[0m\u001b[0;34m\u001b[0m\u001b[0m\n",
      "\u001b[0;32m/opt/conda/lib/python3.7/site-packages/torch/distributions/normal.py\u001b[0m in \u001b[0;36msample\u001b[0;34m(self, sample_shape)\u001b[0m\n\u001b[1;32m     62\u001b[0m         \u001b[0mshape\u001b[0m \u001b[0;34m=\u001b[0m \u001b[0mself\u001b[0m\u001b[0;34m.\u001b[0m\u001b[0m_extended_shape\u001b[0m\u001b[0;34m(\u001b[0m\u001b[0msample_shape\u001b[0m\u001b[0;34m)\u001b[0m\u001b[0;34m\u001b[0m\u001b[0;34m\u001b[0m\u001b[0m\n\u001b[1;32m     63\u001b[0m         \u001b[0;32mwith\u001b[0m \u001b[0mtorch\u001b[0m\u001b[0;34m.\u001b[0m\u001b[0mno_grad\u001b[0m\u001b[0;34m(\u001b[0m\u001b[0;34m)\u001b[0m\u001b[0;34m:\u001b[0m\u001b[0;34m\u001b[0m\u001b[0;34m\u001b[0m\u001b[0m\n\u001b[0;32m---> 64\u001b[0;31m             \u001b[0;32mreturn\u001b[0m \u001b[0mtorch\u001b[0m\u001b[0;34m.\u001b[0m\u001b[0mnormal\u001b[0m\u001b[0;34m(\u001b[0m\u001b[0mself\u001b[0m\u001b[0;34m.\u001b[0m\u001b[0mloc\u001b[0m\u001b[0;34m.\u001b[0m\u001b[0mexpand\u001b[0m\u001b[0;34m(\u001b[0m\u001b[0mshape\u001b[0m\u001b[0;34m)\u001b[0m\u001b[0;34m,\u001b[0m \u001b[0mself\u001b[0m\u001b[0;34m.\u001b[0m\u001b[0mscale\u001b[0m\u001b[0;34m.\u001b[0m\u001b[0mexpand\u001b[0m\u001b[0;34m(\u001b[0m\u001b[0mshape\u001b[0m\u001b[0;34m)\u001b[0m\u001b[0;34m)\u001b[0m\u001b[0;34m\u001b[0m\u001b[0;34m\u001b[0m\u001b[0m\n\u001b[0m\u001b[1;32m     65\u001b[0m \u001b[0;34m\u001b[0m\u001b[0m\n\u001b[1;32m     66\u001b[0m     \u001b[0;32mdef\u001b[0m \u001b[0mrsample\u001b[0m\u001b[0;34m(\u001b[0m\u001b[0mself\u001b[0m\u001b[0;34m,\u001b[0m \u001b[0msample_shape\u001b[0m\u001b[0;34m=\u001b[0m\u001b[0mtorch\u001b[0m\u001b[0;34m.\u001b[0m\u001b[0mSize\u001b[0m\u001b[0;34m(\u001b[0m\u001b[0;34m)\u001b[0m\u001b[0;34m)\u001b[0m\u001b[0;34m:\u001b[0m\u001b[0;34m\u001b[0m\u001b[0;34m\u001b[0m\u001b[0m\n",
      "\u001b[0;31mKeyboardInterrupt\u001b[0m: "
     ]
    }
   ],
   "source": [
    "validate(val_loader, model, criterion, epoch=0, cam_extractor=extractor, cam_inference=True)"
   ]
  }
 ],
 "metadata": {
  "kernelspec": {
   "display_name": "Python 3",
   "language": "python",
   "name": "python3"
  },
  "language_info": {
   "codemirror_mode": {
    "name": "ipython",
    "version": 3
   },
   "file_extension": ".py",
   "mimetype": "text/x-python",
   "name": "python",
   "nbconvert_exporter": "python",
   "pygments_lexer": "ipython3",
   "version": "3.7.12"
  }
 },
 "nbformat": 4,
 "nbformat_minor": 5
}
