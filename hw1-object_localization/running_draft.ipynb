{
 "metadata": {
  "kernelspec": {
   "display_name": "Python 3",
   "language": "python",
   "name": "python3"
  },
  "language_info": {
   "codemirror_mode": {
    "name": "ipython",
    "version": 3
   },
   "file_extension": ".py",
   "mimetype": "text/x-python",
   "name": "python",
   "nbconvert_exporter": "python",
   "pygments_lexer": "ipython3",
   "version": "3.7.12"
  },
  "name": ""
 },
 "nbformat": 3,
 "nbformat_minor": 0,
 "worksheets": [
  {
   "cells": [
    {
     "cell_type": "code",
     "collapsed": false,
     "input": [
      "import argparse\n",
      "import os\n",
      "import shutil\n",
      "import time\n",
      "\n",
      "import sklearn\n",
      "import sklearn.metrics\n",
      "import torch\n",
      "import torch.nn as nn\n",
      "import torch.nn.parallel\n",
      "import torch.nn.functional as F\n",
      "import torch.backends.cudnn as cudnn\n",
      "import torch.distributed as dist\n",
      "import torch.optim\n",
      "import torch.utils.data\n",
      "import torch.utils.data.distributed\n",
      "import torchvision.transforms as transforms\n",
      "import torchvision.datasets as datasets\n",
      "import torchvision.models as models\n",
      "from torchmetrics import JaccardIndex\n",
      "from sklearn.preprocessing import minmax_scale\n",
      "import wandb\n",
      "\n",
      "import matplotlib.pyplot as plt\n",
      "from AlexNet import localizer_alexnet, localizer_alexnet_robust\n",
      "from voc_dataset import *\n",
      "from utils import *\n",
      "from task_1 import AverageMeter\n",
      "%load_ext autoreload\n",
      "%autoreload 2"
     ],
     "language": "python",
     "metadata": {},
     "outputs": [
      {
       "output_type": "stream",
       "stream": "stderr",
       "text": [
        "/opt/conda/lib/python3.7/site-packages/tqdm/auto.py:22: TqdmWarning: IProgress not found. Please update jupyter and ipywidgets. See https://ipywidgets.readthedocs.io/en/stable/user_install.html\n",
        "  from .autonotebook import tqdm as notebook_tqdm\n"
       ]
      }
     ],
     "prompt_number": 1
    },
    {
     "cell_type": "code",
     "collapsed": false,
     "input": [
      "USE_WANDB = True  # use flags, wandb is not convenient for debugging\n",
      "model_names = sorted(name for name in models.__dict__\n",
      "                     if name.islower() and not name.startswith(\"__\")\n",
      "                     and callable(models.__dict__[name]))\n",
      "\n",
      "parser = argparse.ArgumentParser(description='PyTorch ImageNet Training')\n",
      "parser.add_argument('--arch', default='localizer_alexnet')\n",
      "parser.add_argument(\n",
      "    '-j',\n",
      "    '--workers',\n",
      "    default=2,\n",
      "    type=int,\n",
      "    metavar='N',\n",
      "    help='number of data loading workers (default: 4)')\n",
      "parser.add_argument(\n",
      "    '--epochs',\n",
      "    default=2,\n",
      "    type=int,\n",
      "    metavar='N',\n",
      "    help='number of total epochs to run')\n",
      "parser.add_argument(\n",
      "    '--start-epoch',\n",
      "    default=0,\n",
      "    type=int,\n",
      "    metavar='N',\n",
      "    help='manual epoch number (useful on restarts)')\n",
      "parser.add_argument(\n",
      "    '-b',\n",
      "    '--batch-size',\n",
      "    default=32,\n",
      "    type=int,\n",
      "    metavar='N',\n",
      "    help='mini-batch size (default: 256)')\n",
      "parser.add_argument(\n",
      "    '--lr',\n",
      "    '--learning-rate',\n",
      "    default=1e-2,\n",
      "    type=float,\n",
      "    metavar='LR',\n",
      "    help='initial learning rate')\n",
      "parser.add_argument(\n",
      "    '--momentum', default=0.9, type=float, metavar='M', help='momentum')\n",
      "parser.add_argument(\n",
      "    '--weight-decay',\n",
      "    '--wd',\n",
      "    default=1e-4,\n",
      "    type=float,\n",
      "    metavar='W',\n",
      "    help='weight decay (default: 1e-4)')\n",
      "parser.add_argument(\n",
      "    '--print-freq',\n",
      "    '-p',\n",
      "    default=10,\n",
      "    type=int,\n",
      "    metavar='N',\n",
      "    help='print frequency (default: 10)')\n",
      "parser.add_argument(\n",
      "    '--eval-freq',\n",
      "    default=2,\n",
      "    type=int,\n",
      "    metavar='N',\n",
      "    help='print frequency (default: 10)')\n",
      "parser.add_argument(\n",
      "    '--resume',\n",
      "    default='',\n",
      "    type=str,\n",
      "    metavar='PATH',\n",
      "    help='path to latest checkpoint (default: none)')\n",
      "parser.add_argument(\n",
      "    '-e',\n",
      "    '--evaluate',\n",
      "    dest='evaluate',\n",
      "    action='store_true',\n",
      "    help='evaluate model on validation set')\n",
      "parser.add_argument(\n",
      "    '--pretrained',\n",
      "    dest='pretrained',\n",
      "    action='store_false',\n",
      "    help='use pre-trained model')\n",
      "parser.add_argument(\n",
      "    '--world-size',\n",
      "    default=1,\n",
      "    type=int,\n",
      "    help='number of distributed processes')\n",
      "parser.add_argument(\n",
      "    '--dist-url',\n",
      "    default='tcp://224.66.41.62:23456',\n",
      "    type=str,\n",
      "    help='url used to set up distributed training')\n",
      "parser.add_argument(\n",
      "    '--dist-backend', default='gloo', type=str, help='distributed backend')\n",
      "parser.add_argument('--vis', action='store_true')\n",
      "\n",
      "best_prec1 = 0\n",
      "cudnn.benchmark = True\n"
     ],
     "language": "python",
     "metadata": {},
     "outputs": [],
     "prompt_number": 2
    },
    {
     "cell_type": "code",
     "collapsed": false,
     "input": [
      "class args:\n",
      "    parsed_args = parser.parse_known_args()[0]\n",
      "    batch_size = parsed_args.batch_size\n",
      "    workers = parsed_args.workers\n",
      "    print_freq = parsed_args.print_freq\n",
      "    eval_freq= parsed_args.eval_freq\n",
      "    epochs = parsed_args.epochs\n",
      "    lr= parsed_args.lr\n",
      "    arch = parsed_args.arch\n",
      "    pretrained = True\n",
      "    momentum = parsed_args.momentum\n",
      "    weight_decay = parsed_args.weight_decay\n",
      "    start_epoch = parsed_args.start_epoch\n",
      "print(args.__dict__)"
     ],
     "language": "python",
     "metadata": {},
     "outputs": [
      {
       "output_type": "stream",
       "stream": "stdout",
       "text": [
        "{'__module__': '__main__', 'parsed_args': Namespace(arch='localizer_alexnet', batch_size=32, dist_backend='gloo', dist_url='tcp://224.66.41.62:23456', epochs=2, eval_freq=2, evaluate=False, lr=0.01, momentum=0.9, pretrained=True, print_freq=10, resume='', start_epoch=0, vis=False, weight_decay=0.0001, workers=2, world_size=1), 'batch_size': 32, 'workers': 2, 'print_freq': 10, 'eval_freq': 2, 'epochs': 2, 'lr': 0.01, 'arch': 'localizer_alexnet', 'pretrained': True, 'momentum': 0.9, 'weight_decay': 0.0001, 'start_epoch': 0, '__dict__': <attribute '__dict__' of 'args' objects>, '__weakref__': <attribute '__weakref__' of 'args' objects>, '__doc__': None}\n"
       ]
      }
     ],
     "prompt_number": 3
    },
    {
     "cell_type": "code",
     "collapsed": false,
     "input": [
      "# create model\n",
      "print(\"=> creating model '{}'\".format(args.arch))\n",
      "if args.arch == 'localizer_alexnet':\n",
      "    model = localizer_alexnet(pretrained=args.pretrained)\n",
      "elif args.arch == 'localizer_alexnet_robust':\n",
      "    model = localizer_alexnet_robust(pretrained=args.pretrained)\n",
      "#print(model)\n",
      "\n",
      "model.features = torch.nn.DataParallel(model.features)\n",
      "model.cuda()\n",
      "\n",
      "# TODO (Q1.1): define loss function (criterion) and optimizer from [1]\n",
      "# also use an LR scheduler to decay LR by 10 every 30 epochs\n",
      "#criterion = nn.MultiLabelSoftMarginLoss().cuda()   #\n",
      "criterion = nn.BCELoss().cuda()\n",
      "\n",
      "optimizer = torch.optim.SGD(model.parameters(), lr=args.lr,\n",
      "                            momentum=args.momentum,\n",
      "                            weight_decay=args.weight_decay)\n",
      "# optimizer = torch.optim.Adam(model.parameters(), lr=args.lr,\n",
      "#                             weight_decay=args.weight_decay)\n",
      "\n",
      "\"\"\"Sets the learning rate to the initial LR decayed by 10 every 30 epochs\"\"\"\n",
      "scheduler = torch.optim.lr_scheduler.StepLR(optimizer, step_size=30, gamma=0.1)"
     ],
     "language": "python",
     "metadata": {},
     "outputs": [
      {
       "output_type": "stream",
       "stream": "stdout",
       "text": [
        "=> creating model 'localizer_alexnet'\n"
       ]
      },
      {
       "output_type": "stream",
       "stream": "stderr",
       "text": [
        "/home/mo/16824-VLR/hw1-object_localization/AlexNet.py:76: UserWarning: nn.init.xavier_uniform is now deprecated in favor of nn.init.xavier_uniform_.\n",
        "  nn.init.xavier_uniform(layer.weight)\n"
       ]
      }
     ],
     "prompt_number": 4
    },
    {
     "cell_type": "code",
     "collapsed": false,
     "input": [
      "# test output size\n",
      "model(torch.randn((3, 512,512)).unsqueeze(dim=0)).size()"
     ],
     "language": "python",
     "metadata": {},
     "outputs": [
      {
       "output_type": "pyout",
       "prompt_number": 5,
       "text": [
        "torch.Size([1, 20, 29, 29])"
       ]
      }
     ],
     "prompt_number": 5
    },
    {
     "cell_type": "code",
     "collapsed": false,
     "input": [
      "dataset = VOCDataset('trainval', top_n=10, image_size=512, data_dir='../data/VOCdevkit/VOC2007/')\n",
      "# TODO (Q1.1): Create Datasets and Dataloaders using VOCDataset\n",
      "# Ensure that the sizes are 512x512\n",
      "# Also ensure that data directories are correct\n",
      "# The ones use for testing by TAs might be different\n",
      "n = len(dataset)\n",
      "train_dataset, val_dataset = torch.utils.data.random_split(dataset, [int(np.floor(n*0.8)), n-int(np.floor(n*0.8))])\n",
      "train_sampler = torch.utils.data.SubsetRandomSampler(range(len(train_dataset)))"
     ],
     "language": "python",
     "metadata": {},
     "outputs": [
      {
       "output_type": "stream",
       "stream": "stdout",
       "text": [
        "Path:/home/mo/16824-VLR/hw1-object_localization/../data/VOCdevkit/VOC2007\n"
       ]
      }
     ],
     "prompt_number": 6
    },
    {
     "cell_type": "code",
     "collapsed": false,
     "input": [
      "train_loader = torch.utils.data.DataLoader(\n",
      "    train_dataset,\n",
      "    batch_size=args.batch_size,\n",
      "    shuffle=False,\n",
      "    num_workers=args.workers,\n",
      "    pin_memory=True,\n",
      "    sampler=train_sampler,\n",
      "    collate_fn=custom_collate_fn_VOC,\n",
      "    drop_last=True)\n",
      "\n",
      "val_loader = torch.utils.data.DataLoader(\n",
      "    val_dataset,\n",
      "    batch_size=args.batch_size,\n",
      "    shuffle=False,\n",
      "    num_workers=args.workers,\n",
      "    pin_memory=True,\n",
      "    collate_fn=custom_collate_fn_VOC,\n",
      "    drop_last=True)\n",
      "\n",
      "# TODO (Q1.3): Create loggers for wandb.\n",
      "if USE_WANDB:\n",
      "    wandb.init(project=\"vlr-hw1\", reinit=True)\n",
      "#Ideally, use flags since wandb makes it harder to debug code."
     ],
     "language": "python",
     "metadata": {},
     "outputs": [
      {
       "output_type": "stream",
       "stream": "stderr",
       "text": [
        "Failed to detect the name of this notebook, you can set it manually with the WANDB_NOTEBOOK_NAME environment variable to enable code saving.\n"
       ]
      },
      {
       "output_type": "stream",
       "stream": "stderr",
       "text": [
        "\u001b[34m\u001b[1mwandb\u001b[0m: Currently logged in as: \u001b[33m3m-m\u001b[0m. Use \u001b[1m`wandb login --relogin`\u001b[0m to force relogin\n"
       ]
      },
      {
       "html": [
        "Tracking run with wandb version 0.13.3"
       ],
       "output_type": "display_data",
       "text": [
        "<IPython.core.display.HTML object>"
       ]
      },
      {
       "html": [
        "Run data is saved locally in <code>/home/mo/16824-VLR/hw1-object_localization/wandb/run-20221002_064750-3iajfprq</code>"
       ],
       "output_type": "display_data",
       "text": [
        "<IPython.core.display.HTML object>"
       ]
      },
      {
       "html": [
        "Syncing run <strong><a href=\"https://wandb.ai/3m-m/vlr-hw1/runs/3iajfprq\" target=\"_blank\">toasty-sky-39</a></strong> to <a href=\"https://wandb.ai/3m-m/vlr-hw1\" target=\"_blank\">Weights & Biases</a> (<a href=\"https://wandb.me/run\" target=\"_blank\">docs</a>)<br/>"
       ],
       "output_type": "display_data",
       "text": [
        "<IPython.core.display.HTML object>"
       ]
      }
     ],
     "prompt_number": 7
    },
    {
     "cell_type": "code",
     "collapsed": false,
     "input": [
      "data = train_dataset[2020]\n",
      "for k, v in data.items():\n",
      "    print(k, type(v)==np.ndarray)\n",
      "for k, v in data.items():\n",
      "    print(k, type(v))\n",
      "    if type(v) != list: print(v.shape)\n",
      "    else: print(np.array(v).shape)"
     ],
     "language": "python",
     "metadata": {},
     "outputs": [
      {
       "output_type": "stream",
       "stream": "stdout",
       "text": [
        "image False\n",
        "label False\n",
        "wgt False\n",
        "rois True\n",
        "gt_boxes False\n",
        "gt_classes False\n",
        "image <class 'torch.Tensor'>\n",
        "torch.Size([3, 512, 512])\n",
        "label <class 'torch.Tensor'>\n",
        "torch.Size([20])\n",
        "wgt <class 'torch.Tensor'>\n",
        "torch.Size([20])\n",
        "rois <class 'numpy.ndarray'>\n",
        "(10, 4)\n",
        "gt_boxes <class 'list'>\n",
        "(3, 4)\n",
        "gt_classes <class 'list'>\n",
        "(3,)\n"
       ]
      }
     ],
     "prompt_number": 8
    },
    {
     "cell_type": "code",
     "collapsed": false,
     "input": [
      "class AverageMeter(object):\n",
      "    \"\"\"Computes and stores the average and current value\"\"\"\n",
      "\n",
      "    def __init__(self):\n",
      "        self.reset()\n",
      "\n",
      "    def reset(self):\n",
      "        self.val = 0\n",
      "        self.avg = 0\n",
      "        self.sum = 0\n",
      "        self.count = 0\n",
      "\n",
      "    def update(self, val, n=1):\n",
      "        self.val = val\n",
      "        self.sum += val * n\n",
      "        self.count += n\n",
      "        self.avg = self.sum / self.count\n",
      "\n",
      "def metric1(output, target):\n",
      "    # TODO (Q1.5): compute metric1\n",
      "    target = target.detach().numpy()\n",
      "    output = output.detach().numpy()\n",
      "    mean_ap = sklearn.metrics.average_precision_score(target, output, average='micro')\n",
      "    #print(f\"{type(target)}\\n{output}\")\n",
      "    #print(f\"Metric 1: {mean_ap}\")\n",
      "    return mean_ap    #[0]\n",
      "        \n",
      "def metric2(output, target, thres=0.5):\n",
      "    # TODO (Q1.5): compute metric2\n",
      "    target = target.detach().numpy().astype(int)\n",
      "    output = output.detach().numpy().astype(int)\n",
      "    recall = sklearn.metrics.recall_score(target, output, average='samples')\n",
      "    #print(f\"Metric 2:{recall}\")\n",
      "    return recall  #[0]\n",
      "        \n",
      "def metric3(output, target):\n",
      "    target = target.detach().numpy().astype(int)\n",
      "    output = output.detach().numpy().astype(int)\n",
      "    #print(f\"{type(target)}{type(output)}\")\n",
      "    precision = JaccardIndex(num_classes=20, average='micro', multilabel=True)(target, output)\n",
      "    print(f\"METRIC 3:{precision}\")\n",
      "    return precision    #[0]"
     ],
     "language": "python",
     "metadata": {},
     "outputs": [],
     "prompt_number": 9
    },
    {
     "cell_type": "code",
     "collapsed": false,
     "input": [
      "# TODO: You can add input arguments if you wish\n",
      "def train(train_loader, model, criterion, optimizer, epoch):\n",
      "    batch_time = AverageMeter()\n",
      "    data_time = AverageMeter()\n",
      "    losses = AverageMeter()\n",
      "    avg_m1 = AverageMeter()\n",
      "    avg_m2 = AverageMeter()\n",
      "\n",
      "    # switch to train mode\n",
      "    model.train()\n",
      "    class_id_to_label = dict(enumerate(dataset.CLASS_NAMES))\n",
      "    end = time.time()\n",
      "    for i, (data) in enumerate(train_loader):\n",
      "        # measure data loading time\n",
      "        data_time.update(time.time() - end)\n",
      "\n",
      "        # TODO (Q1.1): Get inputs from the data dict\n",
      "        # Convert inputs to cuda if training on GPU\n",
      "        input_im = data['image'].to('cuda')\n",
      "        target = data['label']\n",
      "                            \n",
      "        # TODO (Q1.1): Get output from model\n",
      "        if i==0: print(\"Forward pass\")\n",
      "        conv_out = model(input_im)\n",
      "        \n",
      "        # TODO (Q1.1): Perform any necessary functions on the output\n",
      "        imoutput = (nn.MaxPool2d(kernel_size=(conv_out.size(2), conv_out.size(3)))(conv_out)).squeeze()\n",
      "        imoutput = torch.sigmoid(imoutput)\n",
      "         \n",
      "        if i==0: print(f\"Output size:{imoutput.size()}\")\n",
      "        vis_heatmap = F.interpolate(conv_out, size=(input_im.shape[2],input_im.shape[3]), mode='nearest')\n",
      "        if i==0: print(f\"Heatmap output size:{vis_heatmap.shape}\")\n",
      "        \n",
      "        # TODO (Q1.1): Compute loss using ``criterion``\n",
      "        loss = criterion(imoutput.to('cpu'), target)\n",
      "        \n",
      "        # measure metrics and record loss\n",
      "        m1 = metric1(imoutput.to('cpu'), target)\n",
      "        m2 = metric2(imoutput.to('cpu'), target)\n",
      "        #m3 = metric3(imoutput.to('cpu'), target)\n",
      "        losses.update(loss.item(), len(data))\n",
      "        avg_m1.update(m1)\n",
      "        avg_m2.update(m2)\n",
      "\n",
      "        # TODO (Q1.1): compute gradient and perform optimizer step\n",
      "        optimizer.zero_grad()\n",
      "        loss.backward()\n",
      "        optimizer.step()\n",
      "\n",
      "        # measure elapsed time\n",
      "        batch_time.update(time.time() - end)\n",
      "        end = time.time()\n",
      "\n",
      "        if i % args.print_freq == 0:\n",
      "            print('Epoch: [{0}][{1}/{2}]\\t'\n",
      "                  'Time {batch_time.val:.3f} ({batch_time.avg:.3f})\\t'\n",
      "                  'Data {data_time.val:.3f} ({data_time.avg:.3f})\\t'\n",
      "                  'Loss {loss.val:.4f} ({loss.avg:.4f})\\t'\n",
      "                  'Metric1 {avg_m1.val:.3f} ({avg_m1.avg:.3f})\\t'\n",
      "                  'Metric2 {avg_m2.val:.3f} ({avg_m2.avg:.3f})'.format(\n",
      "                      epoch,\n",
      "                      i,\n",
      "                      len(train_loader),\n",
      "                      batch_time=batch_time,\n",
      "                      data_time=data_time,\n",
      "                      loss=losses,\n",
      "                      avg_m1=avg_m1,\n",
      "                      avg_m2=avg_m2)\n",
      "                 )\n",
      "        # TODO (Q1.3): Visualize/log things as mentioned in handout at appropriate intervals\n",
      "        c_map = plt.get_cmap('jet')\n",
      "        table = wandb.Table(columns=[\"id\", \"image\", \"heatmap\"])\n",
      "        if (epoch==0 or epoch==1 ) and i==0:\n",
      "            table = wandb.Table(columns=[\"id\", \"image\", \"heatmap\"])\n",
      "            for n, (im, out_heatmap) in enumerate(zip(input_im, vis_heatmap)):\n",
      "                input_img = wandb.Image(im, boxes={\n",
      "                    \"predictions\": {\n",
      "                        \"box_data\": get_box_data(data['gt_classes'][n], data['gt_boxes'][n]),\n",
      "                        \"class_labels\": class_id_to_label,       \n",
      "                    },\n",
      "                })\n",
      "                # Log selective masks\n",
      "                att_map = vis_heatmap[n][data['gt_classes'][n][0]].cpu().detach().numpy()\n",
      "                att_map = minmax_scale(att_map.ravel(), feature_range=(0,255)).reshape(att_map.shape)\n",
      "                table.add_data(n, input_img, c_map(wandb.Image(att_map))\n",
      "                if n==1: \n",
      "                    wandb.log({\"Visuals\": table})\n",
      "                    break\n",
      "        wandb.log(\n",
      "            {'train/loss':loss, 'train/metric1': m1,  'train/metric2': m2,}\n",
      "        )\n",
      "        # End of train()"
     ],
     "language": "python",
     "metadata": {},
     "outputs": [
      {
       "ename": "SyntaxError",
       "evalue": "invalid syntax (275943830.py, line 86)",
       "output_type": "pyerr",
       "traceback": [
        "\u001b[0;36m  File \u001b[0;32m\"/tmp/ipykernel_10832/275943830.py\"\u001b[0;36m, line \u001b[0;32m86\u001b[0m\n\u001b[0;31m    if n==1:\u001b[0m\n\u001b[0m           ^\u001b[0m\n\u001b[0;31mSyntaxError\u001b[0m\u001b[0;31m:\u001b[0m invalid syntax\n"
       ]
      }
     ],
     "prompt_number": 10
    },
    {
     "cell_type": "code",
     "collapsed": false,
     "input": [
      "def validate(val_loader, model, criterion, epoch=0):\n",
      "    batch_time = AverageMeter()\n",
      "    losses = AverageMeter()\n",
      "    avg_m1 = AverageMeter()\n",
      "    avg_m2 = AverageMeter()\n",
      "\n",
      "    # switch to evaluate mode\n",
      "    model.eval()\n",
      "    class_id_to_label = dict(enumerate(dataset.CLASS_NAMES))\n",
      "    end = time.time()\n",
      "    for i, (data) in enumerate(val_loader):\n",
      "        # TODO (Q1.1): Get inputs from the data dict\n",
      "        # Convert inputs to cuda if training on GPU\n",
      "        input_im = data['image'].to('cuda')\n",
      "        target_class = data['label']\n",
      "                            \n",
      "        # TODO (Q1.1): Get output from model\n",
      "        if i==0: print(\"Forward pass\")\n",
      "        conv_out = model(input_im)\n",
      "        \n",
      "        # TODO (Q1.1): Perform any necessary functions on the output\n",
      "        imoutput = (nn.MaxPool2d(kernel_size=(conv_out.size(2), conv_out.size(3)))(conv_out)).squeeze()\n",
      "        imoutput = torch.sigmoid(imoutput)\n",
      "        if i==0: print(f\"Output size:{imoutput.size()}\")\n",
      "        \n",
      "        vis_heatmap = F.interpolate(conv_out, size=(input_im.shape[2],input_im.shape[3]), mode='nearest')\n",
      "        if i==0: print(f\"Heatmap output size:{vis_heatmap.shape}\")\n",
      "        \n",
      "        # TODO (Q1.1): Compute loss using ``criterion``\n",
      "        loss = criterion(imoutput.to('cpu'), target_class)\n",
      "        \n",
      "        # measure metrics and record loss\n",
      "        m1 = metric1(imoutput.to('cpu'), target_class)\n",
      "        m2 = metric2(imoutput.to('cpu'), target_class)\n",
      "        #m3 = metric3(imoutput.to('cpu'), target_class)\n",
      "        avg_m1.update(m1)\n",
      "        avg_m2.update(m2)\n",
      "\n",
      "        # measure elapsed time\n",
      "        batch_time.update(time.time() - end)\n",
      "        end = time.time()\n",
      "\n",
      "        if i % args.print_freq == 0:\n",
      "            print('Test: [{0}/{1}]\\t'\n",
      "                  'Time {batch_time.val:.3f} ({batch_time.avg:.3f})\\t'\n",
      "                  'Loss {loss.val:.4f} ({loss.avg:.4f})\\t'\n",
      "                  'Metric1 {avg_m1.val:.3f} ({avg_m1.avg:.3f})\\t'\n",
      "                  'Metric2 {avg_m2.val:.3f} ({avg_m2.avg:.3f})'.format(\n",
      "                      i,\n",
      "                      len(val_loader),\n",
      "                      batch_time=batch_time,\n",
      "                      loss=losses,\n",
      "                      avg_m1=avg_m1,\n",
      "                      avg_m2=avg_m2))\n",
      "\n",
      "        # TODO (Q1.3): Visualize things as mentioned in handout\n",
      "        c_map = plt.get_cmap('jet')\n",
      "        \n",
      "        # TODO (Q1.3): Visualize at appropriate intervals\n",
      "        if (epoch==0 or epoch==1 ) and i==0:\n",
      "            table = wandb.Table(columns=[\"id\", \"image\", \"heatmap\"])\n",
      "            for n, (im, out_heatmap) in enumerate(zip(input_im, vis_heatmap)):\n",
      "                input_img = wandb.Image(im, boxes={\n",
      "                    \"predictions\": {\n",
      "                        \"box_data\": get_box_data(data['gt_classes'][n], data['gt_boxes'][n]),\n",
      "                        \"class_labels\": class_id_to_label,       \n",
      "                    },\n",
      "                })\n",
      "                # Log selective masks\n",
      "                att_map = vis_heatmap[n][data['gt_classes'][n][0]].cpu().detach().numpy()\n",
      "                att_map = minmax_scale(att_map.ravel(), feature_range=(0,255)).reshape(att_map.shape)\n",
      "                table.add_data(n, input_img, wandb.Image(c_map(att_map)))\n",
      "                if n==1: \n",
      "                    wandb.log({\"Visuals\": table})\n",
      "                    break\n",
      "                \n",
      "        wandb.log(\n",
      "            {'train/loss':loss, 'train/metric1': m1,  'train/metric2': m2,}\n",
      "        )\n",
      "\n",
      "        \n",
      "    print(' * Metric1 {avg_m1.avg:.3f} Metric2 {avg_m2.avg:.3f}'.format(\n",
      "        avg_m1=avg_m1, avg_m2=avg_m2))\n",
      "\n",
      "    return avg_m1.avg, avg_m2.avg\n",
      "\n",
      "\n",
      "# TODO: You can make changes to this function if you wish (not necessary)\n",
      "def save_checkpoint(state, is_best, filename='checkpoint.pth.tar'):\n",
      "    torch.save(state, filename)\n",
      "    if is_best:\n",
      "        shutil.copyfile(filename, 'model_best.pth.tar')\n"
     ],
     "language": "python",
     "metadata": {},
     "outputs": [],
     "prompt_number": 11
    },
    {
     "cell_type": "code",
     "collapsed": false,
     "input": [
      "for epoch in range(args.start_epoch, args.epochs):\n",
      "    # train for one epoch\n",
      "    train(train_loader, model, criterion, optimizer, epoch)\n",
      "    \n",
      "    # evaluate on validation set\n",
      "    if epoch % args.eval_freq == 0:\n",
      "        m1, m2 = validate(val_loader, model, criterion, epoch)\n",
      "        score = m1 * m2\n",
      "        # remember best prec@1 and save checkpoint\n",
      "        is_best = score > best_prec1\n",
      "        best_prec1 = max(score, best_prec1)\n",
      "        save_checkpoint({\n",
      "            'epoch': epoch + 1,\n",
      "            'arch': args.arch,\n",
      "            'state_dict': model.state_dict(),\n",
      "            'best_prec1': best_prec1,\n",
      "            'optimizer': optimizer.state_dict(),\n",
      "        }, is_best)"
     ],
     "language": "python",
     "metadata": {
      "scrolled": true,
      "tags": []
     },
     "outputs": [
      {
       "output_type": "stream",
       "stream": "stdout",
       "text": [
        "Forward pass\n",
        "Output size:torch.Size([32, 20])\n",
        "Heatmap output size:torch.Size([32, 20, 512, 512])\n",
        "Epoch: [0][0/125]\tTime 3.364 (3.364)\tData 0.999 (0.999)\tLoss 0.7034 (0.7034)\tMetric1 0.080 (0.080)\tMetric2 0.000 (0.000)\n",
        "Epoch: [0][10/125]\tTime 0.206 (0.577)\tData 0.144 (0.296)\tLoss 0.6867 (0.6960)\tMetric1 0.097 (0.099)\tMetric2 0.000 (0.000)\n",
        "Epoch: [0][20/125]\tTime 0.118 (0.465)\tData 0.060 (0.289)\tLoss 0.6674 (0.6865)\tMetric1 0.099 (0.100)\tMetric2 0.000 (0.000)\n",
        "Epoch: [0][30/125]\tTime 0.119 (0.436)\tData 0.003 (0.289)\tLoss 0.6449 (0.6763)\tMetric1 0.174 (0.138)\tMetric2 0.000 (0.000)\n",
        "Epoch: [0][40/125]\tTime 0.124 (0.420)\tData 0.002 (0.288)\tLoss 0.6091 (0.6644)\tMetric1 0.223 (0.156)\tMetric2 0.000 (0.000)\n",
        "Epoch: [0][50/125]\tTime 0.117 (0.426)\tData 0.006 (0.303)\tLoss 0.4711 (0.6425)\tMetric1 0.214 (0.176)\tMetric2 0.000 (0.000)\n",
        "Epoch: [0][60/125]\tTime 0.104 (0.417)\tData 0.001 (0.300)\tLoss 0.3790 (0.5946)\tMetric1 0.125 (0.179)\tMetric2 0.000 (0.000)\n",
        "Epoch: [0][70/125]\tTime 0.116 (0.408)\tData 0.003 (0.296)\tLoss 0.2911 (0.5509)\tMetric1 0.209 (0.182)\tMetric2 0.000 (0.000)\n",
        "Epoch: [0][80/125]\tTime 0.108 (0.401)\tData 0.001 (0.292)\tLoss 0.2490 (0.5169)\tMetric1 0.296 (0.187)\tMetric2 0.000 (0.000)\n",
        "Epoch: [0][90/125]\tTime 0.114 (0.397)\tData 0.004 (0.291)\tLoss 0.2524 (0.4889)\tMetric1 0.353 (0.192)\tMetric2 0.000 (0.000)\n",
        "Epoch: [0][100/125]\tTime 0.122 (0.394)\tData 0.001 (0.290)\tLoss 0.2714 (0.4670)\tMetric1 0.268 (0.198)\tMetric2 0.000 (0.000)\n",
        "Epoch: [0][110/125]\tTime 0.108 (0.389)\tData 0.001 (0.287)\tLoss 0.2689 (0.4482)\tMetric1 0.204 (0.202)\tMetric2 0.000 (0.000)\n",
        "Epoch: [0][120/125]\tTime 0.116 (0.387)\tData 0.004 (0.286)\tLoss 0.2811 (0.4320)\tMetric1 0.258 (0.204)\tMetric2 0.000 (0.000)\n",
        "Forward pass\n",
        "Output size:torch.Size([32, 20])\n",
        "Heatmap output size:torch.Size([32, 20, 512, 512])\n",
        "Test: [0/31]\tTime 1.047 (1.047)\tLoss 0.0000 (0.0000)\tMetric1 0.239 (0.239)\tMetric2 0.000 (0.000)\n",
        "Test: [10/31]\tTime 0.196 (0.427)\tLoss 0.0000 (0.0000)\tMetric1 0.286 (0.272)\tMetric2 0.000 (0.000)\n",
        "Test: [20/31]\tTime 0.108 (0.389)\tLoss 0.0000 (0.0000)\tMetric1 0.271 (0.271)\tMetric2 0.000 (0.000)\n",
        "Test: [30/31]\tTime 0.084 (0.374)\tLoss 0.0000 (0.0000)\tMetric1 0.160 (0.265)\tMetric2 0.000 (0.000)\n",
        " * Metric1 0.265 Metric2 0.000\n",
        "Forward pass\n",
        "Output size:torch.Size([32, 20])\n",
        "Heatmap output size:torch.Size([32, 20, 512, 512])\n",
        "Epoch: [1][0/125]\tTime 1.087 (1.087)\tData 1.011 (1.011)\tLoss 0.2452 (0.2452)\tMetric1 0.202 (0.202)\tMetric2 0.000 (0.000)\n",
        "Epoch: [1][10/125]\tTime 0.162 (0.420)\tData 0.106 (0.352)\tLoss 0.2686 (0.2629)\tMetric1 0.247 (0.260)\tMetric2 0.000 (0.000)\n",
        "Epoch: [1][20/125]\tTime 0.414 (0.394)\tData 0.354 (0.330)\tLoss 0.2790 (0.2626)\tMetric1 0.183 (0.244)\tMetric2 0.000 (0.000)\n",
        "Epoch: [1][30/125]\tTime 0.424 (0.378)\tData 0.363 (0.316)\tLoss 0.2451 (0.2619)\tMetric1 0.185 (0.236)\tMetric2 0.000 (0.000)\n",
        "Epoch: [1][40/125]\tTime 0.123 (0.366)\tData 0.067 (0.304)\tLoss 0.2515 (0.2600)\tMetric1 0.145 (0.239)\tMetric2 0.000 (0.000)\n",
        "Epoch: [1][50/125]\tTime 0.282 (0.375)\tData 0.225 (0.313)\tLoss 0.2481 (0.2585)\tMetric1 0.196 (0.239)\tMetric2 0.000 (0.000)\n",
        "Epoch: [1][60/125]\tTime 0.151 (0.370)\tData 0.100 (0.308)\tLoss 0.2726 (0.2582)\tMetric1 0.189 (0.232)\tMetric2 0.000 (0.000)\n",
        "Epoch: [1][70/125]\tTime 0.322 (0.368)\tData 0.264 (0.307)\tLoss 0.2635 (0.2575)\tMetric1 0.267 (0.236)\tMetric2 0.000 (0.000)\n",
        "Epoch: [1][80/125]\tTime 0.211 (0.363)\tData 0.159 (0.303)\tLoss 0.2438 (0.2585)\tMetric1 0.251 (0.234)\tMetric2 0.000 (0.000)\n",
        "Epoch: [1][90/125]\tTime 0.284 (0.362)\tData 0.232 (0.302)\tLoss 0.2612 (0.2584)\tMetric1 0.354 (0.236)\tMetric2 0.000 (0.000)\n",
        "Epoch: [1][100/125]\tTime 0.378 (0.361)\tData 0.323 (0.301)\tLoss 0.2402 (0.2585)\tMetric1 0.203 (0.239)\tMetric2 0.000 (0.000)\n",
        "Epoch: [1][110/125]\tTime 0.391 (0.359)\tData 0.329 (0.299)\tLoss 0.2522 (0.2583)\tMetric1 0.326 (0.241)\tMetric2 0.000 (0.000)\n",
        "Epoch: [1][120/125]\tTime 0.287 (0.357)\tData 0.230 (0.297)\tLoss 0.2289 (0.2570)\tMetric1 0.274 (0.242)\tMetric2 0.000 (0.000)\n"
       ]
      }
     ],
     "prompt_number": 12
    },
    {
     "cell_type": "code",
     "collapsed": false,
     "input": [
      "torch.cuda.empty_cache()\n",
      "print(\"Done.\")"
     ],
     "language": "python",
     "metadata": {},
     "outputs": [
      {
       "output_type": "stream",
       "stream": "stdout",
       "text": [
        "Done.\n"
       ]
      }
     ],
     "prompt_number": 13
    },
    {
     "cell_type": "markdown",
     "metadata": {},
     "source": [
      "<b> Task 2"
     ]
    },
    {
     "cell_type": "code",
     "collapsed": false,
     "input": [
      "from torchvision.ops import roi_pool, roi_align, RoIPool"
     ],
     "language": "python",
     "metadata": {},
     "outputs": [],
     "prompt_number": 14
    }
   ],
   "metadata": {}
  }
 ]
}
