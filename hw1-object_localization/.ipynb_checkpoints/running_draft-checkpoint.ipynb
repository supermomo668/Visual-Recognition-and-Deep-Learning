{
 "cells": [
  {
   "cell_type": "code",
   "execution_count": 1,
   "id": "42384da5",
   "metadata": {
    "collapsed": false,
    "jupyter": {
     "outputs_hidden": false
    }
   },
   "outputs": [
    {
     "name": "stderr",
     "output_type": "stream",
     "text": [
      "/opt/conda/lib/python3.7/site-packages/tqdm/auto.py:22: TqdmWarning: IProgress not found. Please update jupyter and ipywidgets. See https://ipywidgets.readthedocs.io/en/stable/user_install.html\n",
      "  from .autonotebook import tqdm as notebook_tqdm\n"
     ]
    }
   ],
   "source": [
    "import argparse\n",
    "import os\n",
    "import shutil\n",
    "import time\n",
    "\n",
    "import sklearn\n",
    "import sklearn.metrics\n",
    "import torch\n",
    "import torch.nn as nn\n",
    "import torch.nn.parallel\n",
    "import torch.nn.functional as F\n",
    "import torch.backends.cudnn as cudnn\n",
    "import torch.distributed as dist\n",
    "import torch.optim\n",
    "import torch.utils.data\n",
    "import torch.utils.data.distributed\n",
    "import torchvision.transforms as transforms\n",
    "import torchvision.datasets as datasets\n",
    "import torchvision.models as models\n",
    "import wandb\n",
    "\n",
    "import matplotlib.pyplot as plt\n",
    "from AlexNet import localizer_alexnet, localizer_alexnet_robust\n",
    "from voc_dataset import *\n",
    "from utils import *\n",
    "from task_1 import AverageMeter\n",
    "%load_ext autoreload\n",
    "%autoreload 2"
   ]
  },
  {
   "cell_type": "code",
   "execution_count": null,
   "id": "63a40719-98d6-48b7-b569-ceb57b9c27ad",
   "metadata": {},
   "outputs": [],
   "source": [
    "F"
   ]
  },
  {
   "cell_type": "code",
   "execution_count": 2,
   "id": "875d56de",
   "metadata": {
    "collapsed": false,
    "jupyter": {
     "outputs_hidden": false
    }
   },
   "outputs": [],
   "source": [
    "USE_WANDB = True  # use flags, wandb is not convenient for debugging\n",
    "model_names = sorted(name for name in models.__dict__\n",
    "                     if name.islower() and not name.startswith(\"__\")\n",
    "                     and callable(models.__dict__[name]))\n",
    "\n",
    "parser = argparse.ArgumentParser(description='PyTorch ImageNet Training')\n",
    "parser.add_argument('--arch', default='localizer_alexnet')\n",
    "parser.add_argument(\n",
    "    '-j',\n",
    "    '--workers',\n",
    "    default=2,\n",
    "    type=int,\n",
    "    metavar='N',\n",
    "    help='number of data loading workers (default: 4)')\n",
    "parser.add_argument(\n",
    "    '--epochs',\n",
    "    default=2,\n",
    "    type=int,\n",
    "    metavar='N',\n",
    "    help='number of total epochs to run')\n",
    "parser.add_argument(\n",
    "    '--start-epoch',\n",
    "    default=0,\n",
    "    type=int,\n",
    "    metavar='N',\n",
    "    help='manual epoch number (useful on restarts)')\n",
    "parser.add_argument(\n",
    "    '-b',\n",
    "    '--batch-size',\n",
    "    default=32,\n",
    "    type=int,\n",
    "    metavar='N',\n",
    "    help='mini-batch size (default: 256)')\n",
    "parser.add_argument(\n",
    "    '--lr',\n",
    "    '--learning-rate',\n",
    "    default=1e-2,\n",
    "    type=float,\n",
    "    metavar='LR',\n",
    "    help='initial learning rate')\n",
    "parser.add_argument(\n",
    "    '--momentum', default=0.9, type=float, metavar='M', help='momentum')\n",
    "parser.add_argument(\n",
    "    '--weight-decay',\n",
    "    '--wd',\n",
    "    default=1e-4,\n",
    "    type=float,\n",
    "    metavar='W',\n",
    "    help='weight decay (default: 1e-4)')\n",
    "parser.add_argument(\n",
    "    '--print-freq',\n",
    "    '-p',\n",
    "    default=10,\n",
    "    type=int,\n",
    "    metavar='N',\n",
    "    help='print frequency (default: 10)')\n",
    "parser.add_argument(\n",
    "    '--eval-freq',\n",
    "    default=2,\n",
    "    type=int,\n",
    "    metavar='N',\n",
    "    help='print frequency (default: 10)')\n",
    "parser.add_argument(\n",
    "    '--resume',\n",
    "    default='',\n",
    "    type=str,\n",
    "    metavar='PATH',\n",
    "    help='path to latest checkpoint (default: none)')\n",
    "parser.add_argument(\n",
    "    '-e',\n",
    "    '--evaluate',\n",
    "    dest='evaluate',\n",
    "    action='store_true',\n",
    "    help='evaluate model on validation set')\n",
    "parser.add_argument(\n",
    "    '--pretrained',\n",
    "    dest='pretrained',\n",
    "    action='store_false',\n",
    "    help='use pre-trained model')\n",
    "parser.add_argument(\n",
    "    '--world-size',\n",
    "    default=1,\n",
    "    type=int,\n",
    "    help='number of distributed processes')\n",
    "parser.add_argument(\n",
    "    '--dist-url',\n",
    "    default='tcp://224.66.41.62:23456',\n",
    "    type=str,\n",
    "    help='url used to set up distributed training')\n",
    "parser.add_argument(\n",
    "    '--dist-backend', default='gloo', type=str, help='distributed backend')\n",
    "parser.add_argument('--vis', action='store_true')\n",
    "\n",
    "best_prec1 = 0\n",
    "cudnn.benchmark = True\n"
   ]
  },
  {
   "cell_type": "code",
   "execution_count": 3,
   "id": "963b226c",
   "metadata": {
    "collapsed": false,
    "jupyter": {
     "outputs_hidden": false
    }
   },
   "outputs": [
    {
     "name": "stdout",
     "output_type": "stream",
     "text": [
      "{'__module__': '__main__', 'parsed_args': Namespace(arch='localizer_alexnet', batch_size=32, dist_backend='gloo', dist_url='tcp://224.66.41.62:23456', epochs=2, eval_freq=2, evaluate=False, lr=0.01, momentum=0.9, pretrained=True, print_freq=10, resume='', start_epoch=0, vis=False, weight_decay=0.0001, workers=2, world_size=1), 'batch_size': 32, 'workers': 2, 'print_freq': 10, 'eval_freq': 2, 'epochs': 2, 'lr': 0.01, 'arch': 'localizer_alexnet', 'pretrained': True, 'momentum': 0.9, 'weight_decay': 0.0001, 'start_epoch': 0, '__dict__': <attribute '__dict__' of 'args' objects>, '__weakref__': <attribute '__weakref__' of 'args' objects>, '__doc__': None}\n"
     ]
    }
   ],
   "source": [
    "class args:\n",
    "    parsed_args = parser.parse_known_args()[0]\n",
    "    batch_size = parsed_args.batch_size\n",
    "    workers = parsed_args.workers\n",
    "    print_freq = parsed_args.print_freq\n",
    "    eval_freq= parsed_args.eval_freq\n",
    "    epochs = parsed_args.epochs\n",
    "    lr= parsed_args.lr\n",
    "    arch = parsed_args.arch\n",
    "    pretrained = True\n",
    "    momentum = parsed_args.momentum\n",
    "    weight_decay = parsed_args.weight_decay\n",
    "    start_epoch = parsed_args.start_epoch\n",
    "print(args.__dict__)"
   ]
  },
  {
   "cell_type": "code",
   "execution_count": 4,
   "id": "216cdbc4",
   "metadata": {
    "collapsed": false,
    "jupyter": {
     "outputs_hidden": false
    }
   },
   "outputs": [
    {
     "name": "stdout",
     "output_type": "stream",
     "text": [
      "=> creating model 'localizer_alexnet'\n"
     ]
    },
    {
     "name": "stderr",
     "output_type": "stream",
     "text": [
      "/home/mo/16824-VLR/hw1-object_localization/AlexNet.py:76: UserWarning: nn.init.xavier_uniform is now deprecated in favor of nn.init.xavier_uniform_.\n",
      "  nn.init.xavier_uniform(layer.weight)\n"
     ]
    },
    {
     "name": "stdout",
     "output_type": "stream",
     "text": [
      "LocalizerAlexNet(\n",
      "  (features): Sequential(\n",
      "    (0): Conv2d(3, 64, kernel_size=(11, 11), stride=(4, 4), padding=(2, 2))\n",
      "    (1): ReLU(inplace=True)\n",
      "    (2): MaxPool2d(kernel_size=(3, 3), stride=(2, 2), padding=0, dilation=(1, 1), ceil_mode=False)\n",
      "    (3): Conv2d(64, 192, kernel_size=(5, 5), stride=(1, 1), padding=(2, 2))\n",
      "    (4): ReLU(inplace=True)\n",
      "    (5): MaxPool2d(kernel_size=(3, 3), stride=(2, 2), padding=0, dilation=(1, 1), ceil_mode=False)\n",
      "    (6): Conv2d(192, 384, kernel_size=(3, 3), stride=(1, 1), padding=(1, 1))\n",
      "    (7): ReLU(inplace=True)\n",
      "    (8): Conv2d(384, 256, kernel_size=(3, 3), stride=(1, 1), padding=(1, 1))\n",
      "    (9): ReLU(inplace=True)\n",
      "    (10): Conv2d(256, 256, kernel_size=(3, 3), stride=(1, 1), padding=(1, 1))\n",
      "    (11): ReLU(inplace=True)\n",
      "  )\n",
      "  (classifier): Sequential(\n",
      "    (0): Conv2d(256, 256, kernel_size=(3, 3), stride=(1, 1))\n",
      "    (1): ReLU(inplace=True)\n",
      "    (2): Conv2d(256, 256, kernel_size=(1, 1), stride=(1, 1))\n",
      "    (3): ReLU(inplace=True)\n",
      "    (4): Conv2d(256, 20, kernel_size=(1, 1), stride=(1, 1))\n",
      "  )\n",
      ")\n"
     ]
    }
   ],
   "source": [
    "# create model\n",
    "print(\"=> creating model '{}'\".format(args.arch))\n",
    "if args.arch == 'localizer_alexnet':\n",
    "    model = localizer_alexnet(pretrained=args.pretrained)\n",
    "elif args.arch == 'localizer_alexnet_robust':\n",
    "    model = localizer_alexnet_robust(pretrained=args.pretrained)\n",
    "print(model)\n",
    "\n",
    "model.features = torch.nn.DataParallel(model.features)\n",
    "model.cuda()\n",
    "\n",
    "# TODO (Q1.1): define loss function (criterion) and optimizer from [1]\n",
    "# also use an LR scheduler to decay LR by 10 every 30 epochs\n",
    "criterion = nn.BCELoss().cuda()   #nn.CrossEntropyLoss().to(device)\n",
    "\n",
    "optimizer = torch.optim.SGD(model.parameters(), lr=args.lr,\n",
    "                            momentum=args.momentum,\n",
    "                            weight_decay=args.weight_decay)\n",
    "# optimizer = torch.optim.Adam(model.parameters(), lr=args.lr,\n",
    "#                             weight_decay=args.weight_decay)\n",
    "\n",
    "\"\"\"Sets the learning rate to the initial LR decayed by 10 every 30 epochs\"\"\"\n",
    "scheduler = torch.optim.lr_scheduler.StepLR(optimizer, step_size=30, gamma=0.1)"
   ]
  },
  {
   "cell_type": "code",
   "execution_count": 5,
   "id": "fb9e63e7",
   "metadata": {
    "collapsed": false,
    "jupyter": {
     "outputs_hidden": false
    }
   },
   "outputs": [
    {
     "data": {
      "text/plain": [
       "torch.Size([1, 20, 29, 29])"
      ]
     },
     "execution_count": 5,
     "metadata": {},
     "output_type": "execute_result"
    }
   ],
   "source": [
    "# test output size\n",
    "model(torch.randn((3, 512,512)).unsqueeze(dim=0)).size()"
   ]
  },
  {
   "cell_type": "code",
   "execution_count": 6,
   "id": "cfe6f4b1",
   "metadata": {
    "collapsed": false,
    "jupyter": {
     "outputs_hidden": false
    }
   },
   "outputs": [
    {
     "name": "stdout",
     "output_type": "stream",
     "text": [
      "Path:/home/mo/16824-VLR/hw1-object_localization/../data/VOCdevkit/VOC2007\n"
     ]
    }
   ],
   "source": [
    "dataset = VOCDataset('trainval', top_n=10, image_size=512, data_dir='../data/VOCdevkit/VOC2007/')\n",
    "# TODO (Q1.1): Create Datasets and Dataloaders using VOCDataset\n",
    "# Ensure that the sizes are 512x512\n",
    "# Also ensure that data directories are correct\n",
    "# The ones use for testing by TAs might be different\n",
    "n = len(dataset)\n",
    "train_dataset, val_dataset = torch.utils.data.random_split(dataset, [int(np.floor(n*0.8)), n-int(np.floor(n*0.8))])\n",
    "train_sampler = torch.utils.data.SubsetRandomSampler(range(len(train_dataset)))"
   ]
  },
  {
   "cell_type": "code",
   "execution_count": 7,
   "id": "821a47e4",
   "metadata": {
    "collapsed": false,
    "jupyter": {
     "outputs_hidden": false
    }
   },
   "outputs": [
    {
     "name": "stderr",
     "output_type": "stream",
     "text": [
      "Failed to detect the name of this notebook, you can set it manually with the WANDB_NOTEBOOK_NAME environment variable to enable code saving.\n",
      "\u001b[34m\u001b[1mwandb\u001b[0m: Currently logged in as: \u001b[33m3m-m\u001b[0m. Use \u001b[1m`wandb login --relogin`\u001b[0m to force relogin\n"
     ]
    },
    {
     "data": {
      "text/html": [
       "Tracking run with wandb version 0.13.3"
      ],
      "text/plain": [
       "<IPython.core.display.HTML object>"
      ]
     },
     "metadata": {},
     "output_type": "display_data"
    },
    {
     "data": {
      "text/html": [
       "Run data is saved locally in <code>/home/mo/16824-VLR/hw1-object_localization/wandb/run-20221001_234403-2r62xmzl</code>"
      ],
      "text/plain": [
       "<IPython.core.display.HTML object>"
      ]
     },
     "metadata": {},
     "output_type": "display_data"
    },
    {
     "data": {
      "text/html": [
       "Syncing run <strong><a href=\"https://wandb.ai/3m-m/vlr-hw1/runs/2r62xmzl\" target=\"_blank\">dark-sky-27</a></strong> to <a href=\"https://wandb.ai/3m-m/vlr-hw1\" target=\"_blank\">Weights & Biases</a> (<a href=\"https://wandb.me/run\" target=\"_blank\">docs</a>)<br/>"
      ],
      "text/plain": [
       "<IPython.core.display.HTML object>"
      ]
     },
     "metadata": {},
     "output_type": "display_data"
    }
   ],
   "source": [
    "train_loader = torch.utils.data.DataLoader(\n",
    "    train_dataset,\n",
    "    batch_size=args.batch_size,\n",
    "    shuffle=False,\n",
    "    num_workers=args.workers,\n",
    "    pin_memory=True,\n",
    "    sampler=train_sampler,\n",
    "    collate_fn=custom_collate_fn_VOC,\n",
    "    drop_last=True)\n",
    "\n",
    "val_loader = torch.utils.data.DataLoader(\n",
    "    val_dataset,\n",
    "    batch_size=args.batch_size,\n",
    "    shuffle=False,\n",
    "    num_workers=args.workers,\n",
    "    pin_memory=True,\n",
    "    collate_fn=custom_collate_fn_VOC,\n",
    "    drop_last=True)\n",
    "\n",
    "# TODO (Q1.3): Create loggers for wandb.\n",
    "if USE_WANDB:\n",
    "    wandb.init(project=\"vlr-hw1\", reinit=True)\n",
    "#Ideally, use flags since wandb makes it harder to debug code."
   ]
  },
  {
   "cell_type": "code",
   "execution_count": 8,
   "id": "dfccebad",
   "metadata": {
    "collapsed": false,
    "jupyter": {
     "outputs_hidden": false
    }
   },
   "outputs": [
    {
     "name": "stdout",
     "output_type": "stream",
     "text": [
      "image False\n",
      "label False\n",
      "wgt False\n",
      "rois True\n",
      "gt_boxes False\n",
      "gt_classes False\n",
      "image <class 'torch.Tensor'>\n",
      "torch.Size([3, 512, 512])\n",
      "label <class 'torch.Tensor'>\n",
      "torch.Size([20])\n",
      "wgt <class 'torch.Tensor'>\n",
      "torch.Size([20])\n",
      "rois <class 'numpy.ndarray'>\n",
      "(10, 4)\n",
      "gt_boxes <class 'list'>\n",
      "(4, 4)\n",
      "gt_classes <class 'list'>\n",
      "(4,)\n"
     ]
    }
   ],
   "source": [
    "data = train_dataset[2020]\n",
    "for k, v in data.items():\n",
    "    print(k, type(v)==np.ndarray)\n",
    "for k, v in data.items():\n",
    "    print(k, type(v))\n",
    "    if type(v) != list: print(v.shape)\n",
    "    else: print(np.array(v).shape)"
   ]
  },
  {
   "cell_type": "code",
   "execution_count": 9,
   "id": "e8c51d70",
   "metadata": {
    "collapsed": false,
    "jupyter": {
     "outputs_hidden": false
    }
   },
   "outputs": [],
   "source": [
    "class AverageMeter(object):\n",
    "    \"\"\"Computes and stores the average and current value\"\"\"\n",
    "\n",
    "    def __init__(self):\n",
    "        self.reset()\n",
    "\n",
    "    def reset(self):\n",
    "        self.val = 0\n",
    "        self.avg = 0\n",
    "        self.sum = 0\n",
    "        self.count = 0\n",
    "\n",
    "    def update(self, val, n=1):\n",
    "        self.val = val\n",
    "        self.sum += val * n\n",
    "        self.count += n\n",
    "        self.avg = self.sum / self.count\n",
    "\n",
    "\n",
    "def metric1(output, target):\n",
    "    # TODO (Q1.5): compute metric1\n",
    "    target = target.detach().numpy()\n",
    "    output = output.detach().numpy()\n",
    "    mean_ap = sklearn.metrics.average_precision_score(target, output, average='micro')\n",
    "    return mean_ap    #[0]\n",
    "\n",
    "\n",
    "def metric2(output, target, thres=0.5):\n",
    "    # TODO (Q1.5): compute metric2\n",
    "    target = target.detach().numpy()\n",
    "    sig_recall = sklearn.metrics.recall_score(target, (output>thres).detach().numpy(), average='micro')\n",
    "    return sig_recall  #[0]"
   ]
  },
  {
   "cell_type": "code",
   "execution_count": 10,
   "id": "9effb19f",
   "metadata": {
    "collapsed": false,
    "jupyter": {
     "outputs_hidden": false
    }
   },
   "outputs": [],
   "source": [
    "# TODO: You can add input arguments if you wish\n",
    "def train(train_loader, model, criterion, optimizer, epoch):\n",
    "    batch_time = AverageMeter()\n",
    "    data_time = AverageMeter()\n",
    "    losses = AverageMeter()\n",
    "    avg_m1 = AverageMeter()\n",
    "    avg_m2 = AverageMeter()\n",
    "\n",
    "    # switch to train mode\n",
    "    model.train()\n",
    "    class_id_to_label = dict(enumerate(dataset.CLASS_NAMES))\n",
    "    end = time.time()\n",
    "    for i, (data) in enumerate(train_loader):\n",
    "        # measure data loading time\n",
    "        data_time.update(time.time() - end)\n",
    "\n",
    "        # TODO (Q1.1): Get inputs from the data dict\n",
    "        # Convert inputs to cuda if training on GPU\n",
    "        input_im = data['image'].to('cuda')\n",
    "        target_class = data['label']\n",
    "                            \n",
    "        # TODO (Q1.1): Get output from model\n",
    "        if i==0: print(\"Forward pass\")\n",
    "        conv_out = model(input_im)\n",
    "        \n",
    "        # TODO (Q1.1): Perform any necessary functions on the output\n",
    "        imoutput = (nn.MaxPool2d(kernel_size=(conv_out.size(2), conv_out.size(3)))(conv_out)).squeeze()\n",
    "        imoutput = torch.sigmoid(imoutput)\n",
    "         \n",
    "        if i==0: print(f\"Output size:{imoutput.size()}\")\n",
    "        vis_heatmap = F.interpolate(conv_out, size=(input_im.shape[2],input_im.shape[3]), mode='nearest')\n",
    "        if i==0: print(f\"Heatmap output size:{vis_heatmap.shape}\")\n",
    "        \n",
    "        # TODO (Q1.1): Compute loss using ``criterion``\n",
    "        loss = criterion(imoutput.to('cpu'), target_class)\n",
    "        #criterion(data['gt_boxes'], imoutput)\n",
    "        \n",
    "        # measure metrics and record loss\n",
    "        m1 = metric1(imoutput.to('cpu'), target_class)\n",
    "        m2 = metric2(imoutput.to('cpu'), target_class)\n",
    "        losses.update(loss.item(), len(data))\n",
    "        avg_m1.update(m1)\n",
    "        avg_m2.update(m2)\n",
    "\n",
    "        # TODO (Q1.1): compute gradient and perform optimizer step\n",
    "        optimizer.zero_grad()\n",
    "        loss.backward()\n",
    "        optimizer.step()\n",
    "\n",
    "        # measure elapsed time\n",
    "        batch_time.update(time.time() - end)\n",
    "        end = time.time()\n",
    "\n",
    "        if i % args.print_freq == 0:\n",
    "            print('Epoch: [{0}][{1}/{2}]\\t'\n",
    "                  'Time {batch_time.val:.3f} ({batch_time.avg:.3f})\\t'\n",
    "                  'Data {data_time.val:.3f} ({data_time.avg:.3f})\\t'\n",
    "                  'Loss {loss.val:.4f} ({loss.avg:.4f})\\t'\n",
    "                  'Metric1 {avg_m1.val:.3f} ({avg_m1.avg:.3f})\\t'\n",
    "                  'Metric2 {avg_m2.val:.3f} ({avg_m2.avg:.3f})'.format(\n",
    "                      epoch,\n",
    "                      i,\n",
    "                      len(train_loader),\n",
    "                      batch_time=batch_time,\n",
    "                      data_time=data_time,\n",
    "                      loss=losses,\n",
    "                      avg_m1=avg_m1,\n",
    "                      avg_m2=avg_m2)\n",
    "                 )\n",
    "        # TODO (Q1.3): Visualize/log things as mentioned in handout at appropriate intervals\n",
    "        c_map = plt.get_cmap('jet')\n",
    "        table = wandb.Table(columns=[\"id\", \"image\", \"heatmap\"])\n",
    "        if (epoch==0 or epoch==1 ) and i==0:\n",
    "            table = wandb.Table(columns=[\"id\", \"image\", \"heatmap\"])\n",
    "            for n, (im, out_heatmap) in enumerate(zip(input_im, vis_heatmap)):\n",
    "                input_img = wandb.Image(im, boxes={\n",
    "                    \"predictions\": {\n",
    "                        \"box_data\": get_box_data(data['gt_classes'][n], data['gt_boxes'][n]),\n",
    "                        \"class_labels\": class_id_to_label,       \n",
    "                    },\n",
    "                })\n",
    "                # Log selective masks\n",
    "                att_map = torch.mean(vis_heatmap[n][data['gt_classes'][n]], dim=0)\n",
    "                table.add_data(n, input_img, wandb.Image(c_map(att_map.cpu().detach().numpy())))\n",
    "                if n==1: \n",
    "                    wandb.log({\"Visuals\": table})\n",
    "                    break\n",
    "        wandb.log(\n",
    "            {'train/loss':loss, 'train/metric1': m1,  'train/metric2': m2,}\n",
    "        )\n",
    "        # End of train()\n"
   ]
  },
  {
   "cell_type": "code",
   "execution_count": 11,
   "id": "32c3771b",
   "metadata": {
    "collapsed": false,
    "jupyter": {
     "outputs_hidden": false
    }
   },
   "outputs": [],
   "source": [
    "def validate(val_loader, model, criterion, epoch=0):\n",
    "    batch_time = AverageMeter()\n",
    "    losses = AverageMeter()\n",
    "    avg_m1 = AverageMeter()\n",
    "    avg_m2 = AverageMeter()\n",
    "\n",
    "    # switch to evaluate mode\n",
    "    model.eval()\n",
    "    class_id_to_label = dict(enumerate(dataset.CLASS_NAMES))\n",
    "    end = time.time()\n",
    "    for i, (data) in enumerate(val_loader):\n",
    "        # TODO (Q1.1): Get inputs from the data dict\n",
    "        # Convert inputs to cuda if training on GPU\n",
    "        input_im = data['image'].to('cuda')\n",
    "        target_class = data['label']\n",
    "                            \n",
    "        # TODO (Q1.1): Get output from model\n",
    "        if i==0: print(\"Forward pass\")\n",
    "        conv_out = model(input_im)\n",
    "        \n",
    "        # TODO (Q1.1): Perform any necessary functions on the output\n",
    "        imoutput = (nn.MaxPool2d(kernel_size=(conv_out.size(2), conv_out.size(3)))(conv_out)).squeeze()\n",
    "        imoutput = torch.sigmoid(imoutput)\n",
    "         \n",
    "        if i==0: print(f\"Output size:{imoutput.size()}\")\n",
    "        vis_heatmap = F.interpolate(conv_out, size=(input_im.shape[2],input_im.shape[3]), mode='nearest')\n",
    "        if i==0: print(f\"Heatmap output size:{vis_heatmap.shape}\")\n",
    "        \n",
    "        # TODO (Q1.1): Compute loss using ``criterion``\n",
    "        loss = criterion(imoutput.to('cpu'), target_class)\n",
    "        \n",
    "        # measure metrics and record loss\n",
    "        m1 = metric1(imoutput.to('cpu'), target_class)\n",
    "        m2 = metric2(imoutput.to('cpu'), target_class)\n",
    "        avg_m1.update(m1)\n",
    "        avg_m2.update(m2)\n",
    "\n",
    "        # measure elapsed time\n",
    "        batch_time.update(time.time() - end)\n",
    "        end = time.time()\n",
    "\n",
    "        if i % args.print_freq == 0:\n",
    "            print('Test: [{0}/{1}]\\t'\n",
    "                  'Time {batch_time.val:.3f} ({batch_time.avg:.3f})\\t'\n",
    "                  'Loss {loss.val:.4f} ({loss.avg:.4f})\\t'\n",
    "                  'Metric1 {avg_m1.val:.3f} ({avg_m1.avg:.3f})\\t'\n",
    "                  'Metric2 {avg_m2.val:.3f} ({avg_m2.avg:.3f})'.format(\n",
    "                      i,\n",
    "                      len(val_loader),\n",
    "                      batch_time=batch_time,\n",
    "                      loss=losses,\n",
    "                      avg_m1=avg_m1,\n",
    "                      avg_m2=avg_m2))\n",
    "\n",
    "        # TODO (Q1.3): Visualize things as mentioned in handout\n",
    "        c_map = plt.get_cmap('jet')\n",
    "        \n",
    "        # TODO (Q1.3): Visualize at appropriate intervals\n",
    "        if (epoch==0 or epoch==1 ) and i==0:\n",
    "            table = wandb.Table(columns=[\"id\", \"image\", \"heatmap\"])\n",
    "            for n, (im, out_heatmap) in enumerate(zip(input_im, vis_heatmap)):\n",
    "                input_img = wandb.Image(im, boxes={\n",
    "                    \"predictions\": {\n",
    "                        \"box_data\": get_box_data(data['gt_classes'][n], data['gt_boxes'][n]),\n",
    "                        \"class_labels\": class_id_to_label,       \n",
    "                    },\n",
    "                })\n",
    "                # Log selective masks\n",
    "                att_map = torch.mean(vis_heatmap[n][data['gt_classes'][n]], dim=0)\n",
    "                table.add_data(n, input_img, wandb.Image(c_map(att_map.cpu().detach().numpy())))\n",
    "                if n==1: \n",
    "                    wandb.log({\"Visuals\": table})\n",
    "                    break\n",
    "                \n",
    "        wandb.log(\n",
    "            {'train/loss':loss, 'train/metric1': m1,  'train/metric2': m2,}\n",
    "        )\n",
    "\n",
    "        \n",
    "    print(' * Metric1 {avg_m1.avg:.3f} Metric2 {avg_m2.avg:.3f}'.format(\n",
    "        avg_m1=avg_m1, avg_m2=avg_m2))\n",
    "\n",
    "    return avg_m1.avg, avg_m2.avg\n",
    "\n",
    "\n",
    "# TODO: You can make changes to this function if you wish (not necessary)\n",
    "def save_checkpoint(state, is_best, filename='checkpoint.pth.tar'):\n",
    "    torch.save(state, filename)\n",
    "    if is_best:\n",
    "        shutil.copyfile(filename, 'model_best.pth.tar')\n"
   ]
  },
  {
   "cell_type": "code",
   "execution_count": 12,
   "id": "73bba2d3",
   "metadata": {
    "collapsed": false,
    "jupyter": {
     "outputs_hidden": false
    },
    "scrolled": true,
    "tags": []
   },
   "outputs": [
    {
     "name": "stdout",
     "output_type": "stream",
     "text": [
      "Forward pass\n",
      "Output size:torch.Size([32, 20])\n",
      "Heatmap output size:torch.Size([32, 20, 512, 512])\n",
      "Epoch: [0][0/125]\tTime 3.402 (3.402)\tData 1.052 (1.052)\tLoss 0.7088 (0.7088)\tMetric1 0.071 (0.071)\tMetric2 0.620 (0.620)\n",
      "Epoch: [0][10/125]\tTime 0.208 (0.582)\tData 0.149 (0.297)\tLoss 0.6876 (0.7001)\tMetric1 0.112 (0.078)\tMetric2 0.565 (0.564)\n",
      "Epoch: [0][20/125]\tTime 0.449 (0.477)\tData 0.393 (0.302)\tLoss 0.6621 (0.6881)\tMetric1 0.087 (0.084)\tMetric2 0.062 (0.470)\n",
      "Epoch: [0][30/125]\tTime 0.330 (0.435)\tData 0.280 (0.298)\tLoss 0.6264 (0.6743)\tMetric1 0.134 (0.092)\tMetric2 0.000 (0.324)\n",
      "Epoch: [0][40/125]\tTime 0.107 (0.419)\tData 0.007 (0.299)\tLoss 0.5359 (0.6538)\tMetric1 0.181 (0.102)\tMetric2 0.000 (0.245)\n",
      "Epoch: [0][50/125]\tTime 0.254 (0.406)\tData 0.192 (0.297)\tLoss 0.2921 (0.5999)\tMetric1 0.128 (0.105)\tMetric2 0.000 (0.197)\n",
      "Epoch: [0][60/125]\tTime 0.139 (0.396)\tData 0.084 (0.296)\tLoss 0.3074 (0.5515)\tMetric1 0.154 (0.124)\tMetric2 0.000 (0.174)\n",
      "Epoch: [0][70/125]\tTime 0.185 (0.389)\tData 0.122 (0.294)\tLoss 0.2948 (0.5149)\tMetric1 0.181 (0.131)\tMetric2 0.000 (0.149)\n",
      "Epoch: [0][80/125]\tTime 0.114 (0.387)\tData 0.009 (0.296)\tLoss 0.2643 (0.4843)\tMetric1 0.217 (0.149)\tMetric2 0.000 (0.145)\n",
      "Epoch: [0][90/125]\tTime 0.113 (0.382)\tData 0.001 (0.293)\tLoss 0.2586 (0.4608)\tMetric1 0.219 (0.162)\tMetric2 0.000 (0.129)\n",
      "Epoch: [0][100/125]\tTime 0.124 (0.379)\tData 0.061 (0.292)\tLoss 0.2415 (0.4409)\tMetric1 0.324 (0.170)\tMetric2 0.000 (0.116)\n",
      "Epoch: [0][110/125]\tTime 0.160 (0.376)\tData 0.109 (0.292)\tLoss 0.2487 (0.4247)\tMetric1 0.289 (0.178)\tMetric2 0.000 (0.106)\n",
      "Epoch: [0][120/125]\tTime 0.259 (0.374)\tData 0.209 (0.292)\tLoss 0.2817 (0.4107)\tMetric1 0.207 (0.184)\tMetric2 0.000 (0.097)\n",
      "Forward pass\n",
      "Output size:torch.Size([32, 20])\n",
      "Heatmap output size:torch.Size([32, 20, 512, 512])\n",
      "Test: [0/31]\tTime 0.966 (0.966)\tLoss 0.0000 (0.0000)\tMetric1 0.297 (0.297)\tMetric2 0.000 (0.000)\n",
      "Test: [10/31]\tTime 0.260 (0.424)\tLoss 0.0000 (0.0000)\tMetric1 0.247 (0.263)\tMetric2 0.000 (0.000)\n",
      "Test: [20/31]\tTime 0.472 (0.427)\tLoss 0.0000 (0.0000)\tMetric1 0.344 (0.259)\tMetric2 0.000 (0.000)\n",
      "Test: [30/31]\tTime 0.245 (0.394)\tLoss 0.0000 (0.0000)\tMetric1 0.215 (0.253)\tMetric2 0.000 (0.000)\n",
      " * Metric1 0.253 Metric2 0.000\n",
      "Forward pass\n",
      "Output size:torch.Size([32, 20])\n",
      "Heatmap output size:torch.Size([32, 20, 512, 512])\n",
      "Epoch: [1][0/125]\tTime 1.233 (1.233)\tData 1.098 (1.098)\tLoss 0.2593 (0.2593)\tMetric1 0.236 (0.236)\tMetric2 0.000 (0.000)\n",
      "Epoch: [1][10/125]\tTime 0.118 (0.436)\tData 0.041 (0.353)\tLoss 0.2323 (0.2557)\tMetric1 0.144 (0.227)\tMetric2 0.000 (0.000)\n",
      "Epoch: [1][20/125]\tTime 0.420 (0.403)\tData 0.367 (0.332)\tLoss 0.2435 (0.2578)\tMetric1 0.370 (0.230)\tMetric2 0.000 (0.000)\n",
      "Epoch: [1][30/125]\tTime 0.516 (0.388)\tData 0.446 (0.320)\tLoss 0.2645 (0.2601)\tMetric1 0.329 (0.223)\tMetric2 0.000 (0.000)\n",
      "Epoch: [1][40/125]\tTime 0.567 (0.380)\tData 0.505 (0.314)\tLoss 0.2695 (0.2578)\tMetric1 0.245 (0.225)\tMetric2 0.000 (0.000)\n",
      "Epoch: [1][50/125]\tTime 0.554 (0.374)\tData 0.502 (0.309)\tLoss 0.2524 (0.2577)\tMetric1 0.215 (0.225)\tMetric2 0.000 (0.000)\n",
      "Epoch: [1][60/125]\tTime 0.472 (0.370)\tData 0.421 (0.307)\tLoss 0.2694 (0.2570)\tMetric1 0.321 (0.235)\tMetric2 0.000 (0.000)\n",
      "Epoch: [1][70/125]\tTime 0.524 (0.368)\tData 0.461 (0.306)\tLoss 0.2595 (0.2566)\tMetric1 0.270 (0.243)\tMetric2 0.000 (0.009)\n",
      "Epoch: [1][80/125]\tTime 0.569 (0.369)\tData 0.518 (0.305)\tLoss 0.2336 (0.2562)\tMetric1 0.251 (0.243)\tMetric2 0.000 (0.008)\n",
      "Epoch: [1][90/125]\tTime 0.682 (0.370)\tData 0.610 (0.303)\tLoss 0.2453 (0.2568)\tMetric1 0.203 (0.244)\tMetric2 0.000 (0.007)\n",
      "Epoch: [1][100/125]\tTime 0.567 (0.368)\tData 0.510 (0.299)\tLoss 0.2500 (0.2563)\tMetric1 0.193 (0.241)\tMetric2 0.000 (0.006)\n",
      "Epoch: [1][110/125]\tTime 0.631 (0.368)\tData 0.572 (0.297)\tLoss 0.2424 (0.2559)\tMetric1 0.215 (0.243)\tMetric2 0.000 (0.006)\n",
      "Epoch: [1][120/125]\tTime 0.597 (0.366)\tData 0.531 (0.294)\tLoss 0.2668 (0.2550)\tMetric1 0.258 (0.244)\tMetric2 0.000 (0.005)\n"
     ]
    }
   ],
   "source": [
    "for epoch in range(args.start_epoch, args.epochs):\n",
    "    # train for one epoch\n",
    "    train(train_loader, model, criterion, optimizer, epoch)\n",
    "\n",
    "    # evaluate on validation set\n",
    "    if epoch % args.eval_freq == 0:\n",
    "        m1, m2 = validate(val_loader, model, criterion, epoch)\n",
    "        score = m1 * m2\n",
    "        # remember best prec@1 and save checkpoint\n",
    "        is_best = score > best_prec1\n",
    "        best_prec1 = max(score, best_prec1)\n",
    "        save_checkpoint({\n",
    "            'epoch': epoch + 1,\n",
    "            'arch': args.arch,\n",
    "            'state_dict': model.state_dict(),\n",
    "            'best_prec1': best_prec1,\n",
    "            'optimizer': optimizer.state_dict(),\n",
    "        }, is_best)"
   ]
  },
  {
   "cell_type": "code",
   "execution_count": 13,
   "id": "21dce170",
   "metadata": {
    "collapsed": false,
    "jupyter": {
     "outputs_hidden": false
    }
   },
   "outputs": [
    {
     "name": "stdout",
     "output_type": "stream",
     "text": [
      "Done.\n"
     ]
    }
   ],
   "source": [
    "print(\"Done.\")"
   ]
  },
  {
   "cell_type": "markdown",
   "id": "d360564f",
   "metadata": {},
   "source": [
    "<b> Task 2"
   ]
  },
  {
   "cell_type": "code",
   "execution_count": 14,
   "id": "8f6bafc3",
   "metadata": {
    "collapsed": false,
    "jupyter": {
     "outputs_hidden": false
    }
   },
   "outputs": [],
   "source": [
    "from torchvision.ops import roi_pool, roi_align, RoIPool"
   ]
  }
 ],
 "metadata": {
  "kernelspec": {
   "display_name": "Python 3",
   "language": "python",
   "name": "python3"
  },
  "language_info": {
   "codemirror_mode": {
    "name": "ipython",
    "version": 3
   },
   "file_extension": ".py",
   "mimetype": "text/x-python",
   "name": "python",
   "nbconvert_exporter": "python",
   "pygments_lexer": "ipython3",
   "version": "3.7.12"
  }
 },
 "nbformat": 4,
 "nbformat_minor": 5
}
