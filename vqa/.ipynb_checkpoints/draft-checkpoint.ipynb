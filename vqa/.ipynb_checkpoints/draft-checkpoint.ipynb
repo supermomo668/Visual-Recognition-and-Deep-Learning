{
 "cells": [
  {
   "cell_type": "code",
   "execution_count": 89,
   "id": "45438058-9aa2-440b-8115-3559a9600a5d",
   "metadata": {},
   "outputs": [
    {
     "name": "stdout",
     "output_type": "stream",
     "text": [
      "The autoreload extension is already loaded. To reload it, use:\n",
      "  %reload_ext autoreload\n"
     ]
    }
   ],
   "source": [
    "from vqa_dataset import VQADataset\n",
    "from models import BaselineNet\n",
    "import torch\n",
    "from torch import nn\n",
    "%load_ext autoreload\n",
    "%autoreload 2"
   ]
  },
  {
   "cell_type": "code",
   "execution_count": 36,
   "id": "13d4800d-347e-428a-ad78-4c28510c5e5b",
   "metadata": {},
   "outputs": [
    {
     "name": "stdout",
     "output_type": "stream",
     "text": [
      "dict_keys(['image', 'question', 'answers', 'orig_img'])\n",
      "dict_keys(['image', 'question', 'answers', 'orig_img'])\n",
      "dict_keys(['image', 'question', 'answers', 'orig_img'])\n"
     ]
    }
   ],
   "source": [
    "val_dataset = VQADataset(\n",
    "        image_dir='data/val2014/',\n",
    "        question_json_file_path='data/OpenEnded_mscoco_val2014_questions.json',\n",
    "        annotation_json_file_path='data/mscoco_val2014_annotations.json',\n",
    "        image_filename_pattern=\"COCO_val2014_{}.jpg\"\n",
    "    )\n",
    "_id2answer = {\n",
    "    v: k for k, v in val_dataset.answer_to_id_map.items()}\n",
    "_id2answer[len(_id2answer)] = 'Other'\n",
    "for n, data in enumerate(val_dataset):\n",
    "    if n==2:\n",
    "        print(data.keys())\n",
    "        break\n"
   ]
  },
  {
   "cell_type": "code",
   "execution_count": 4,
   "id": "00e0873c-d688-4b93-8696-18448ebf1f33",
   "metadata": {},
   "outputs": [
    {
     "name": "stdout",
     "output_type": "stream",
     "text": [
      "['wood'] 24\n"
     ]
    }
   ],
   "source": [
    "#val_dataset.answer_to_id_map.keys()\n",
    "answers = [_id2answer[idx.item()] for idx in torch.where(data['answers'] == torch.max(data['answers']))[0]]\n",
    "answer_idx = torch.argmax(data['answers']).item()\n",
    "print(answers, answer_idx)"
   ]
  },
  {
   "cell_type": "code",
   "execution_count": 93,
   "id": "d58a1e58-0553-48c7-ae90-c61840039fd3",
   "metadata": {},
   "outputs": [
    {
     "name": "stderr",
     "output_type": "stream",
     "text": [
      "Some weights of the model checkpoint at roberta-base were not used when initializing RobertaModel: ['lm_head.layer_norm.bias', 'lm_head.layer_norm.weight', 'lm_head.decoder.weight', 'lm_head.dense.bias', 'lm_head.dense.weight', 'lm_head.bias']\n",
      "- This IS expected if you are initializing RobertaModel from the checkpoint of a model trained on another task or with another architecture (e.g. initializing a BertForSequenceClassification model from a BertForPreTraining model).\n",
      "- This IS NOT expected if you are initializing RobertaModel from the checkpoint of a model that you expect to be exactly identical (initializing a BertForSequenceClassification model from a BertForSequenceClassification model).\n"
     ]
    }
   ],
   "source": [
    "model = BaselineNet(n_answers=5217)"
   ]
  },
  {
   "cell_type": "code",
   "execution_count": 203,
   "id": "e36077e2-c98e-478b-aac5-bbee47a319d9",
   "metadata": {},
   "outputs": [
    {
     "name": "stdout",
     "output_type": "stream",
     "text": [
      "torch.Size([1, 768]) torch.Size([1, 512]) torch.Size([1, 5217])\n"
     ]
    }
   ],
   "source": [
    "text_feat_out = model.compute_text_feats([data['question']])\n",
    "im_feat_out = model.compute_vis_feats(data['image'].unsqueeze(0))\n",
    "cls_out = model.classifier(torch.cat((text_feat_out, im_feat_out),axis=1))\n",
    "print(text_feat_out.size(), im_feat_out.size(), cls_out.size())"
   ]
  },
  {
   "cell_type": "code",
   "execution_count": 128,
   "id": "473fe492-1c69-4ddc-baf9-b38947768a7d",
   "metadata": {},
   "outputs": [
    {
     "data": {
      "text/plain": [
       "tensor([], dtype=torch.int64)"
      ]
     },
     "execution_count": 128,
     "metadata": {},
     "output_type": "execute_result"
    }
   ],
   "source": [
    "torch.where(torch.argmax(cls_out, axis=1)==torch.argmax(data['answers'].unsqueeze(0), axis=1))[0]"
   ]
  },
  {
   "cell_type": "code",
   "execution_count": 157,
   "id": "1184f099-55c8-4d5f-bf40-324d0f5c7cf4",
   "metadata": {},
   "outputs": [
    {
     "data": {
      "text/plain": [
       "'wood'"
      ]
     },
     "execution_count": 157,
     "metadata": {},
     "output_type": "execute_result"
    }
   ],
   "source": [
    "_id2answer[torch.argmax([data][torch.zeros(1, dtype=torch.int64)]['answers']).item()]"
   ]
  },
  {
   "cell_type": "markdown",
   "id": "cdb610a0-81c8-40fa-a782-63e7e2023bf7",
   "metadata": {},
   "source": [
    "### Task 3: Transformer"
   ]
  },
  {
   "cell_type": "code",
   "execution_count": 204,
   "id": "195034ea-f162-45a6-b1cd-f59c7b6acc76",
   "metadata": {},
   "outputs": [],
   "source": [
    "from models import CrossAttentionLayer,BaselineNet,TransformerNet"
   ]
  },
  {
   "cell_type": "code",
   "execution_count": 205,
   "id": "32b0a97e-5719-44ce-b9e7-43d9a9814f8a",
   "metadata": {},
   "outputs": [
    {
     "name": "stderr",
     "output_type": "stream",
     "text": [
      "Some weights of the model checkpoint at roberta-base were not used when initializing RobertaModel: ['lm_head.layer_norm.bias', 'lm_head.layer_norm.weight', 'lm_head.decoder.weight', 'lm_head.dense.bias', 'lm_head.dense.weight', 'lm_head.bias']\n",
      "- This IS expected if you are initializing RobertaModel from the checkpoint of a model trained on another task or with another architecture (e.g. initializing a BertForSequenceClassification model from a BertForPreTraining model).\n",
      "- This IS NOT expected if you are initializing RobertaModel from the checkpoint of a model that you expect to be exactly identical (initializing a BertForSequenceClassification model from a BertForSequenceClassification model).\n"
     ]
    }
   ],
   "source": [
    "model = [TransformerNet(5217), CrossAttentionLayer(256, n_heads=8)][0]"
   ]
  },
  {
   "cell_type": "markdown",
   "id": "46926e97-beb5-4be6-bdc2-5d09a2f4c1f8",
   "metadata": {},
   "source": [
    "<b> Token and text encoder"
   ]
  },
  {
   "cell_type": "code",
   "execution_count": 161,
   "id": "41b3db41-aae7-4129-a2ed-94f15475761b",
   "metadata": {},
   "outputs": [
    {
     "name": "stdout",
     "output_type": "stream",
     "text": [
      "12 12\n",
      "odict_keys(['last_hidden_state', 'pooler_output'])\n",
      "torch.Size([1, 12, 768]) torch.Size([1, 768])\n"
     ]
    }
   ],
   "source": [
    "# text converted tokens \n",
    "token = model.tokenizer.batch_encode_plus(\n",
    "    [data['question']], padding=\"longest\", return_tensors=\"pt\"\n",
    ")\n",
    "token_ids, mask = token['input_ids'], token['attention_mask']\n",
    "print(len(token_ids[0]), len(mask[0]))\n",
    "encoded_text = model.text_encoder(**token)\n",
    "print(encoded_text.keys())\n",
    "last_h, pool_out = [v[1] for v in encoded_text.items()]\n",
    "print(last_h.size(), pool_out.size())"
   ]
  },
  {
   "cell_type": "code",
   "execution_count": 79,
   "id": "9ba82a50-c6ad-499a-8c6b-2fb6c9a3bff1",
   "metadata": {},
   "outputs": [
    {
     "name": "stdout",
     "output_type": "stream",
     "text": [
      "torch.Size([1, 49, 49, 1]) torch.Size([128]) torch.Size([1, 49, 49, 128]) torch.Size([1, 49, 49, 128]) torch.Size([1, 256, 49, 49])\n"
     ]
    },
    {
     "name": "stderr",
     "output_type": "stream",
     "text": [
      "C:\\Users\\Mo\\AppData\\Local\\Temp/ipykernel_20412/3457502429.py:4: UserWarning: __floordiv__ is deprecated, and its behavior will change in a future version of pytorch. It currently rounds toward 0 (like the 'trunc' function NOT 'floor'). This results in incorrect rounding for negative values. To keep the current behavior, use torch.div(a, b, rounding_mode='trunc'), or for actual floor division, use torch.div(a, b, rounding_mode='floor').\n",
      "  dim_t = 1e5 ** (2 * (dim_t // 2) / 128)\n"
     ]
    }
   ],
   "source": [
    "x_embed = (~torch.zeros(1, 49, 49).bool()).cumsum(2, dtype=torch.float32)[:,:,:,None]\n",
    "x_embed = (x_embed - 0.5) / (x_embed[:, :, -1:] + 1e-7) * 2*np.pi\n",
    "dim_t = torch.arange(128, dtype=torch.float32)\n",
    "dim_t = 1e5 ** (2 * (dim_t // 2) / 128)\n",
    "pos_x = (emb_x/dim_t)\n",
    "pos_x2 = torch.stack(\n",
    "        (pos_x[:, :, :, 0::2].sin(), pos_x[:, :, :, 1::2].cos()), dim=4\n",
    "    ).flatten(3)\n",
    "\n",
    "pos = torch.cat((pos_x2, pos_x2), dim=3).permute(0, 3, 1, 2)\n",
    "print(x_embed.size(), dim_t.size(), pos_x.size(), pos_x2.size(), pos.size())\n",
    "# (1, 49, 49) of True"
   ]
  },
  {
   "cell_type": "markdown",
   "id": "bc2d668a-c433-4304-927f-5fe38fb572ca",
   "metadata": {},
   "source": [
    "<b> Model"
   ]
  },
  {
   "cell_type": "code",
   "execution_count": 203,
   "id": "daeeaab5-421a-4268-aa27-5d7eed65c5e9",
   "metadata": {},
   "outputs": [
    {
     "data": {
      "text/plain": [
       "768"
      ]
     },
     "execution_count": 203,
     "metadata": {},
     "output_type": "execute_result"
    }
   ],
   "source": [
    "model.text_encoder.config.hidden_size"
   ]
  },
  {
   "cell_type": "code",
   "execution_count": 207,
   "id": "4468e8cc-5df0-4982-9ee2-508b83560d15",
   "metadata": {
    "scrolled": true,
    "tags": []
   },
   "outputs": [
    {
     "name": "stdout",
     "output_type": "stream",
     "text": [
      "torch.Size([1, 12, 256]) torch.Size([1, 49, 256])\n",
      "torch.Size([1, 12, 256]) torch.Size([1, 49, 256])\n",
      "torch.Size([1, 5217])\n"
     ]
    }
   ],
   "source": [
    "text_feats, text_mask = model.compute_text_feats([data['question']])\n",
    "img_feats, img_emb = model.compute_vis_feats(data['image'].unsqueeze(0))\n",
    "output = model(data['image'].unsqueeze(0), [data['question']])\n",
    "# print(text_feats.size(),text_mask.size(),'\\n',\n",
    "#       img_feats.size(), img_emb.size())\n",
    "print(output.size())"
   ]
  },
  {
   "cell_type": "code",
   "execution_count": 202,
   "id": "2db78393-63f6-43cb-a1d7-2753e7162d48",
   "metadata": {},
   "outputs": [
    {
     "data": {
      "text/plain": [
       "torch.Size([1, 5217])"
      ]
     },
     "execution_count": 202,
     "metadata": {},
     "output_type": "execute_result"
    }
   ],
   "source": [
    "output.size()"
   ]
  },
  {
   "cell_type": "markdown",
   "id": "0b15e2f0-3424-4772-b4f4-f779ebaf8f5f",
   "metadata": {},
   "source": [
    "<b> positional embeddings: sin/cos with dimension (128 x 2)"
   ]
  },
  {
   "cell_type": "markdown",
   "id": "8777cff3-cc2f-4088-8839-46fc828fddd9",
   "metadata": {},
   "source": [
    "## Bonus: LSTM"
   ]
  },
  {
   "cell_type": "code",
   "execution_count": 242,
   "id": "68441b19-453b-45dc-815f-d83c611ca0b3",
   "metadata": {},
   "outputs": [],
   "source": [
    "from models import LSTMNet"
   ]
  },
  {
   "cell_type": "code",
   "execution_count": 243,
   "id": "a9b24132-0077-4c8f-b724-ec0608a5680c",
   "metadata": {},
   "outputs": [
    {
     "name": "stderr",
     "output_type": "stream",
     "text": [
      "Some weights of the model checkpoint at roberta-base were not used when initializing RobertaModel: ['lm_head.layer_norm.bias', 'lm_head.layer_norm.weight', 'lm_head.decoder.weight', 'lm_head.dense.bias', 'lm_head.dense.weight', 'lm_head.bias']\n",
      "- This IS expected if you are initializing RobertaModel from the checkpoint of a model trained on another task or with another architecture (e.g. initializing a BertForSequenceClassification model from a BertForPreTraining model).\n",
      "- This IS NOT expected if you are initializing RobertaModel from the checkpoint of a model that you expect to be exactly identical (initializing a BertForSequenceClassification model from a BertForSequenceClassification model).\n"
     ]
    }
   ],
   "source": [
    "model = LSTMNet()"
   ]
  },
  {
   "cell_type": "code",
   "execution_count": 227,
   "id": "7444714e-378b-4873-ab63-7d150a2e152c",
   "metadata": {},
   "outputs": [
    {
     "name": "stdout",
     "output_type": "stream",
     "text": [
      "torch.Size([1, 12, 768]) torch.Size([1, 512])\n"
     ]
    }
   ],
   "source": [
    "text_feat_out = model.compute_text_feats([data['question']])\n",
    "im_feat_out = model.compute_vis_feats(data['image'].unsqueeze(0))\n",
    "print(text_feat_out.size(), im_feat_out.size())"
   ]
  },
  {
   "cell_type": "code",
   "execution_count": 244,
   "id": "baaaf497-23c3-4441-bce4-3429061e6562",
   "metadata": {
    "scrolled": true,
    "tags": []
   },
   "outputs": [
    {
     "name": "stdout",
     "output_type": "stream",
     "text": [
      "torch.Size([1, 12, 1536]) torch.Size([1, 3072])\n",
      "torch.Size([1, 5217])\n"
     ]
    }
   ],
   "source": [
    "output = model(data['image'].unsqueeze(0), [data['question']])\n",
    "print(output.size())"
   ]
  },
  {
   "cell_type": "markdown",
   "id": "f57cd28b-79c0-4ac0-84fd-8772bf96fe8b",
   "metadata": {},
   "source": [
    "### Plotting"
   ]
  },
  {
   "cell_type": "code",
   "execution_count": 9,
   "id": "5cbd5c9b-fc0a-442e-9d65-f76f71f0c6f1",
   "metadata": {},
   "outputs": [],
   "source": [
    "import matplotlib.pyplot as plt\n",
    "import numpy as np, pandas as pd"
   ]
  },
  {
   "cell_type": "code",
   "execution_count": 10,
   "id": "fa59adc2-349b-4835-afc2-73c5a1bd1d78",
   "metadata": {},
   "outputs": [],
   "source": [
    "with open('all_answers.txt','r(') as f:\n",
    "    data = f.read().split(',')"
   ]
  },
  {
   "cell_type": "code",
   "execution_count": 20,
   "id": "97460836-a419-43c6-8fd9-6475cbc09bb1",
   "metadata": {},
   "outputs": [],
   "source": [
    "ser = pd.Series(data)\n",
    "cts = ser.value_counts()"
   ]
  },
  {
   "cell_type": "code",
   "execution_count": 16,
   "id": "27ec0b0b-0213-4a80-9af9-f27f2599e0bc",
   "metadata": {},
   "outputs": [
    {
     "data": {
      "text/plain": [
       "<AxesSubplot:title={'center':'Predicted Frequencies (top 10)'}>"
      ]
     },
     "execution_count": 16,
     "metadata": {},
     "output_type": "execute_result"
    },
    {
     "data": {
      "image/png": "[encoded data removed]",
      "text/plain": [
       "<Figure size 432x288 with 1 Axes>"
      ]
     },
     "metadata": {
      "needs_background": "light"
     },
     "output_type": "display_data"
    }
   ],
   "source": [
    "fig, ax = plt.subplots(1)\n",
    "ax.set_title('Predicted Frequencies (top 10)')\n",
    "ser[ser.isin(cts.iloc[:10].index)].hist(xrot=30, ax=ax)"
   ]
  },
  {
   "cell_type": "code",
   "execution_count": 21,
   "id": "fa1a9eb7-2041-4871-8024-7499eefe7f95",
   "metadata": {},
   "outputs": [
    {
     "data": {
      "text/plain": [
       "(array([551.,   0.,   0., ...,   0.,   0.,   1.]),\n",
       " array([0.00000000e+00, 1.86658865e-01, 3.73317730e-01, ...,\n",
       "        9.56626682e+02, 9.56813341e+02, 9.57000000e+02]),\n",
       " <BarContainer object of 5127 artists>)"
      ]
     },
     "execution_count": 21,
     "metadata": {},
     "output_type": "execute_result"
    },
    {
     "data": {
      "image/png": "[encoded data removed]",
      "text/plain": [
       "<Figure size 432x288 with 1 Axes>"
      ]
     },
     "metadata": {
      "needs_background": "light"
     },
     "output_type": "display_data"
    }
   ],
   "source": [
    "fig, ax = plt.subplots(1)\n",
    "ax.set_title('Predicted Frequencies (all)')\n",
    "ax.hist(data,bins=5127)"
   ]
  }
 ],
 "metadata": {
  "kernelspec": {
   "display_name": "ptml",
   "language": "python",
   "name": "ptml"
  },
  "language_info": {
   "codemirror_mode": {
    "name": "ipython",
    "version": 3
   },
   "file_extension": ".py",
   "mimetype": "text/x-python",
   "name": "python",
   "nbconvert_exporter": "python",
   "pygments_lexer": "ipython3",
   "version": "3.8.12"
  }
 },
 "nbformat": 4,
 "nbformat_minor": 5
}
