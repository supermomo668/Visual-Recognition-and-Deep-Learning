{
 "cells": [
  {
   "cell_type": "code",
   "execution_count": 6,
   "id": "4f33dd75-556a-42a5-87f9-25f0d7898cf9",
   "metadata": {},
   "outputs": [],
   "source": [
    "from gan.networks import DownSampleConv2D, ResBlockDown\n",
    "import torch"
   ]
  },
  {
   "cell_type": "code",
   "execution_count": 5,
   "id": "7ad170e5-233c-4b89-ab40-62fac102617e",
   "metadata": {},
   "outputs": [
    {
     "data": {
      "text/plain": [
       "torch.Size([1, 128, 16, 16])"
      ]
     },
     "execution_count": 5,
     "metadata": {},
     "output_type": "execute_result"
    }
   ],
   "source": [
    "im = torch.randn(3, 32,32)\n",
    "DownSampleConv2D(3 , padding=1)(im).size()"
   ]
  },
  {
   "cell_type": "code",
   "execution_count": 7,
   "id": "ae23c6c3-88d3-4579-8ff2-ff08e9a6bd47",
   "metadata": {},
   "outputs": [
    {
     "data": {
      "text/plain": [
       "torch.Size([1, 128, 16, 16])"
      ]
     },
     "execution_count": 7,
     "metadata": {},
     "output_type": "execute_result"
    }
   ],
   "source": [
    "ResBlockDown(3)(im).size()"
   ]
  }
 ],
 "metadata": {
  "kernelspec": {
   "display_name": "ptml",
   "language": "python",
   "name": "ptml"
  },
  "language_info": {
   "codemirror_mode": {
    "name": "ipython",
    "version": 3
   },
   "file_extension": ".py",
   "mimetype": "text/x-python",
   "name": "python",
   "nbconvert_exporter": "python",
   "pygments_lexer": "ipython3",
   "version": "3.8.12"
  }
 },
 "nbformat": 4,
 "nbformat_minor": 5
}
